{
 "cells": [
  {
   "cell_type": "code",
   "execution_count": 1,
   "metadata": {},
   "outputs": [],
   "source": [
    "import tensorflow\n",
    "import librosa\n",
    "import librosa.display\n",
    "import numpy as np\n",
    "import matplotlib.pyplot as plt\n",
    "import os\n",
    "import tqdm.notebook\n",
    "\n",
    "from sklearn.preprocessing import LabelEncoder\n",
    "from sklearn.preprocessing import StandardScaler"
   ]
  },
  {
   "cell_type": "code",
   "execution_count": 2,
   "metadata": {},
   "outputs": [],
   "source": [
    "#visulization functions (SR = Sample Rate)\n",
    "\n",
    "def waveplot(audio,sr):\n",
    "    plt.figure(figsize=(14, 5), dpi=100)\n",
    "    return librosa.display.waveplot(audio, sr=sr)\n",
    "\n",
    "def spectrogram(audio,sr):\n",
    "    X = librosa.stft(audio)\n",
    "    Xdb = librosa.amplitude_to_db(abs(X))\n",
    "    plt.figure(figsize=(14, 5), dpi=100)\n",
    "    return librosa.display.specshow(Xdb, sr=sr, x_axis='time', y_axis='hz')\n",
    "\n",
    "def mfcc(audio,sr):\n",
    "    mfccs = librosa.feature.mfcc(audio, sr=sr)\n",
    "    return librosa.display.specshow(mfccs, sr=sr, x_axis='time')"
   ]
  },
  {
   "cell_type": "code",
   "execution_count": 3,
   "metadata": {},
   "outputs": [],
   "source": [
    "def load_data(path,genres):\n",
    "    data = []\n",
    "    labels = []\n",
    "    srs = []\n",
    "    \n",
    "    for genre in genres:\n",
    "        for file in tqdm.notebook.tqdm(os.listdir(path + genre + \"/\"), desc = genre):\n",
    "            mfcc = []\n",
    "            \n",
    "            x, sr = librosa.load(path + genre + \"/\" + file,duration=5)\n",
    "            x = librosa.feature.mfcc(x, sr=sr)\n",
    "            for val in x:\n",
    "                mfcc.append(np.mean(val))\n",
    "                \n",
    "            data.append(np.array(mfcc))\n",
    "            labels.append(genre)\n",
    "            srs.append(sr)\n",
    "            \n",
    "    return np.array(data), np.array(labels), np.array(srs)"
   ]
  },
  {
   "cell_type": "code",
   "execution_count": 4,
   "metadata": {},
   "outputs": [],
   "source": [
    "data_path = os.getcwd() + \"/data/genres/\"\n",
    "genres = os.listdir(data_path)"
   ]
  },
  {
   "cell_type": "code",
   "execution_count": 5,
   "metadata": {},
   "outputs": [
    {
     "data": {
      "application/vnd.jupyter.widget-view+json": {
       "model_id": "cdc1f5da5eb7451ebe365f9ab86d1cec",
       "version_major": 2,
       "version_minor": 0
      },
      "text/plain": [
       "HBox(children=(FloatProgress(value=0.0, description='disco', style=ProgressStyle(description_width='initial'))…"
      ]
     },
     "metadata": {},
     "output_type": "display_data"
    },
    {
     "name": "stdout",
     "output_type": "stream",
     "text": [
      "\n"
     ]
    },
    {
     "data": {
      "application/vnd.jupyter.widget-view+json": {
       "model_id": "0e32287e95c34001b4c5fa6363f7614f",
       "version_major": 2,
       "version_minor": 0
      },
      "text/plain": [
       "HBox(children=(FloatProgress(value=0.0, description='country', style=ProgressStyle(description_width='initial'…"
      ]
     },
     "metadata": {},
     "output_type": "display_data"
    },
    {
     "name": "stdout",
     "output_type": "stream",
     "text": [
      "\n"
     ]
    },
    {
     "data": {
      "application/vnd.jupyter.widget-view+json": {
       "model_id": "1a1b08d122ff4e778b2b02c98946ced2",
       "version_major": 2,
       "version_minor": 0
      },
      "text/plain": [
       "HBox(children=(FloatProgress(value=0.0, description='metal', style=ProgressStyle(description_width='initial'))…"
      ]
     },
     "metadata": {},
     "output_type": "display_data"
    },
    {
     "name": "stdout",
     "output_type": "stream",
     "text": [
      "\n"
     ]
    },
    {
     "data": {
      "application/vnd.jupyter.widget-view+json": {
       "model_id": "6599f4f17c3c4254a1cd5fa83f0fae54",
       "version_major": 2,
       "version_minor": 0
      },
      "text/plain": [
       "HBox(children=(FloatProgress(value=0.0, description='rock', style=ProgressStyle(description_width='initial')),…"
      ]
     },
     "metadata": {},
     "output_type": "display_data"
    },
    {
     "name": "stdout",
     "output_type": "stream",
     "text": [
      "\n"
     ]
    },
    {
     "data": {
      "application/vnd.jupyter.widget-view+json": {
       "model_id": "335ac185ff1049de95563a1cf5e6f8f5",
       "version_major": 2,
       "version_minor": 0
      },
      "text/plain": [
       "HBox(children=(FloatProgress(value=0.0, description='hiphop', style=ProgressStyle(description_width='initial')…"
      ]
     },
     "metadata": {},
     "output_type": "display_data"
    },
    {
     "name": "stdout",
     "output_type": "stream",
     "text": [
      "\n"
     ]
    },
    {
     "data": {
      "application/vnd.jupyter.widget-view+json": {
       "model_id": "590f2594e9a84fa3a62e7410c5eed385",
       "version_major": 2,
       "version_minor": 0
      },
      "text/plain": [
       "HBox(children=(FloatProgress(value=0.0, description='blues', style=ProgressStyle(description_width='initial'))…"
      ]
     },
     "metadata": {},
     "output_type": "display_data"
    },
    {
     "name": "stdout",
     "output_type": "stream",
     "text": [
      "\n"
     ]
    },
    {
     "data": {
      "application/vnd.jupyter.widget-view+json": {
       "model_id": "b0845daa20d44f2498fc69ea96f00071",
       "version_major": 2,
       "version_minor": 0
      },
      "text/plain": [
       "HBox(children=(FloatProgress(value=0.0, description='pop', style=ProgressStyle(description_width='initial')), …"
      ]
     },
     "metadata": {},
     "output_type": "display_data"
    },
    {
     "name": "stdout",
     "output_type": "stream",
     "text": [
      "\n"
     ]
    },
    {
     "data": {
      "application/vnd.jupyter.widget-view+json": {
       "model_id": "888fa038e0d34eb0b13db0120f8bfa4a",
       "version_major": 2,
       "version_minor": 0
      },
      "text/plain": [
       "HBox(children=(FloatProgress(value=0.0, description='reggae', style=ProgressStyle(description_width='initial')…"
      ]
     },
     "metadata": {},
     "output_type": "display_data"
    },
    {
     "name": "stdout",
     "output_type": "stream",
     "text": [
      "\n"
     ]
    },
    {
     "data": {
      "application/vnd.jupyter.widget-view+json": {
       "model_id": "03cb1620180c4511b58edb3fd3e273e3",
       "version_major": 2,
       "version_minor": 0
      },
      "text/plain": [
       "HBox(children=(FloatProgress(value=0.0, description='classical', style=ProgressStyle(description_width='initia…"
      ]
     },
     "metadata": {},
     "output_type": "display_data"
    },
    {
     "name": "stdout",
     "output_type": "stream",
     "text": [
      "\n"
     ]
    },
    {
     "data": {
      "application/vnd.jupyter.widget-view+json": {
       "model_id": "3253a42e34cd496faac9071a817323fb",
       "version_major": 2,
       "version_minor": 0
      },
      "text/plain": [
       "HBox(children=(FloatProgress(value=0.0, description='jazz', style=ProgressStyle(description_width='initial')),…"
      ]
     },
     "metadata": {},
     "output_type": "display_data"
    },
    {
     "name": "stdout",
     "output_type": "stream",
     "text": [
      "\n"
     ]
    }
   ],
   "source": [
    "X,Y, sr = load_data(data_path, genres)"
   ]
  },
  {
   "cell_type": "code",
   "execution_count": 6,
   "metadata": {},
   "outputs": [],
   "source": [
    "scaler = StandardScaler()\n",
    "X = scaler.fit_transform(X)\n",
    "\n",
    "le = LabelEncoder()\n",
    "Y = le.fit_transform(Y)"
   ]
  },
  {
   "cell_type": "code",
   "execution_count": 7,
   "metadata": {},
   "outputs": [],
   "source": [
    "from sklearn.model_selection import train_test_split\n",
    "\n",
    "trn_x,val_x,trn_y,val_y = train_test_split(X,Y,test_size=0.10)"
   ]
  },
  {
   "cell_type": "code",
   "execution_count": 8,
   "metadata": {},
   "outputs": [],
   "source": [
    "shape = X[0].shape"
   ]
  },
  {
   "cell_type": "code",
   "execution_count": 9,
   "metadata": {},
   "outputs": [],
   "source": [
    "from tensorflow.keras.models import Sequential\n",
    "from tensorflow.keras.layers import Flatten, Dense, Dropout\n",
    "from tensorflow.keras import optimizers\n",
    "\n",
    "model = Sequential()\n",
    "\n",
    "model.add(Dense(256,input_shape=shape,activation='relu'))\n",
    "model.add(Dense(100,activation='relu'))\n",
    "model.add(Dense(10,activation='softmax'))"
   ]
  },
  {
   "cell_type": "code",
   "execution_count": 10,
   "metadata": {},
   "outputs": [],
   "source": [
    "adam = optimizers.Adam(lr=0.0001)\n",
    "\n",
    "model.compile(loss='sparse_categorical_crossentropy',\n",
    "              optimizer=adam,\n",
    "              metrics=['acc'])"
   ]
  },
  {
   "cell_type": "code",
   "execution_count": 11,
   "metadata": {},
   "outputs": [
    {
     "name": "stdout",
     "output_type": "stream",
     "text": [
      "Train on 900 samples, validate on 100 samples\n",
      "Epoch 1/100\n",
      "900/900 [==============================] - 1s 766us/sample - loss: 2.2877 - acc: 0.1189 - val_loss: 2.2028 - val_acc: 0.2100\n",
      "Epoch 2/100\n",
      "900/900 [==============================] - 0s 155us/sample - loss: 2.0976 - acc: 0.2889 - val_loss: 2.0606 - val_acc: 0.3100\n",
      "Epoch 3/100\n",
      "900/900 [==============================] - 0s 194us/sample - loss: 1.9499 - acc: 0.3956 - val_loss: 1.9398 - val_acc: 0.3200\n",
      "Epoch 4/100\n",
      "900/900 [==============================] - 0s 204us/sample - loss: 1.8315 - acc: 0.4156 - val_loss: 1.8481 - val_acc: 0.3500\n",
      "Epoch 5/100\n",
      "900/900 [==============================] - 0s 209us/sample - loss: 1.7381 - acc: 0.4211 - val_loss: 1.7779 - val_acc: 0.3600\n",
      "Epoch 6/100\n",
      "900/900 [==============================] - 0s 195us/sample - loss: 1.6624 - acc: 0.4422 - val_loss: 1.7099 - val_acc: 0.3300\n",
      "Epoch 7/100\n",
      "900/900 [==============================] - 0s 198us/sample - loss: 1.5981 - acc: 0.4578 - val_loss: 1.6667 - val_acc: 0.3400\n",
      "Epoch 8/100\n",
      "900/900 [==============================] - 0s 237us/sample - loss: 1.5453 - acc: 0.4700 - val_loss: 1.6320 - val_acc: 0.3400\n",
      "Epoch 9/100\n",
      "900/900 [==============================] - 0s 246us/sample - loss: 1.4960 - acc: 0.4878 - val_loss: 1.5977 - val_acc: 0.3400\n",
      "Epoch 10/100\n",
      "900/900 [==============================] - 0s 251us/sample - loss: 1.4555 - acc: 0.5078 - val_loss: 1.5685 - val_acc: 0.3400\n",
      "Epoch 11/100\n",
      "900/900 [==============================] - 0s 253us/sample - loss: 1.4163 - acc: 0.5189 - val_loss: 1.5451 - val_acc: 0.3600\n",
      "Epoch 12/100\n",
      "900/900 [==============================] - 0s 260us/sample - loss: 1.3800 - acc: 0.5300 - val_loss: 1.5210 - val_acc: 0.4000\n",
      "Epoch 13/100\n",
      "900/900 [==============================] - 0s 249us/sample - loss: 1.3469 - acc: 0.5433 - val_loss: 1.5020 - val_acc: 0.4200\n",
      "Epoch 14/100\n",
      "900/900 [==============================] - 0s 248us/sample - loss: 1.3161 - acc: 0.5600 - val_loss: 1.4822 - val_acc: 0.4400\n",
      "Epoch 15/100\n",
      "900/900 [==============================] - 0s 240us/sample - loss: 1.2870 - acc: 0.5644 - val_loss: 1.4742 - val_acc: 0.4300\n",
      "Epoch 16/100\n",
      "900/900 [==============================] - 0s 242us/sample - loss: 1.2617 - acc: 0.5822 - val_loss: 1.4588 - val_acc: 0.4300\n",
      "Epoch 17/100\n",
      "900/900 [==============================] - 0s 250us/sample - loss: 1.2370 - acc: 0.5922 - val_loss: 1.4467 - val_acc: 0.4400\n",
      "Epoch 18/100\n",
      "900/900 [==============================] - 0s 262us/sample - loss: 1.2148 - acc: 0.5922 - val_loss: 1.4414 - val_acc: 0.4400\n",
      "Epoch 19/100\n",
      "900/900 [==============================] - 0s 249us/sample - loss: 1.1921 - acc: 0.6033 - val_loss: 1.4280 - val_acc: 0.4500\n",
      "Epoch 20/100\n",
      "900/900 [==============================] - 0s 241us/sample - loss: 1.1724 - acc: 0.6156 - val_loss: 1.4189 - val_acc: 0.4400\n",
      "Epoch 21/100\n",
      "900/900 [==============================] - 0s 250us/sample - loss: 1.1519 - acc: 0.6333 - val_loss: 1.4116 - val_acc: 0.4700\n",
      "Epoch 22/100\n",
      "900/900 [==============================] - 0s 270us/sample - loss: 1.1335 - acc: 0.6333 - val_loss: 1.4034 - val_acc: 0.4800\n",
      "Epoch 23/100\n",
      "900/900 [==============================] - 0s 252us/sample - loss: 1.1168 - acc: 0.6456 - val_loss: 1.3883 - val_acc: 0.5000\n",
      "Epoch 24/100\n",
      "900/900 [==============================] - 0s 251us/sample - loss: 1.0990 - acc: 0.6556 - val_loss: 1.3896 - val_acc: 0.4800\n",
      "Epoch 25/100\n",
      "900/900 [==============================] - 0s 253us/sample - loss: 1.0844 - acc: 0.6544 - val_loss: 1.3786 - val_acc: 0.4900\n",
      "Epoch 26/100\n",
      "900/900 [==============================] - 0s 267us/sample - loss: 1.0703 - acc: 0.6544 - val_loss: 1.3744 - val_acc: 0.4800\n",
      "Epoch 27/100\n",
      "900/900 [==============================] - 0s 240us/sample - loss: 1.0547 - acc: 0.6656 - val_loss: 1.3681 - val_acc: 0.5200\n",
      "Epoch 28/100\n",
      "900/900 [==============================] - 0s 240us/sample - loss: 1.0413 - acc: 0.6667 - val_loss: 1.3609 - val_acc: 0.5000\n",
      "Epoch 29/100\n",
      "900/900 [==============================] - 0s 246us/sample - loss: 1.0281 - acc: 0.6700 - val_loss: 1.3581 - val_acc: 0.5000\n",
      "Epoch 30/100\n",
      "900/900 [==============================] - 0s 254us/sample - loss: 1.0147 - acc: 0.6778 - val_loss: 1.3542 - val_acc: 0.5200\n",
      "Epoch 31/100\n",
      "900/900 [==============================] - 0s 268us/sample - loss: 1.0017 - acc: 0.6933 - val_loss: 1.3509 - val_acc: 0.5200\n",
      "Epoch 32/100\n",
      "900/900 [==============================] - 0s 240us/sample - loss: 0.9899 - acc: 0.6833 - val_loss: 1.3377 - val_acc: 0.5200\n",
      "Epoch 33/100\n",
      "900/900 [==============================] - 0s 208us/sample - loss: 0.9776 - acc: 0.6889 - val_loss: 1.3402 - val_acc: 0.5100\n",
      "Epoch 34/100\n",
      "900/900 [==============================] - 0s 181us/sample - loss: 0.9673 - acc: 0.6978 - val_loss: 1.3310 - val_acc: 0.5000\n",
      "Epoch 35/100\n",
      "900/900 [==============================] - 0s 167us/sample - loss: 0.9565 - acc: 0.7067 - val_loss: 1.3249 - val_acc: 0.5500\n",
      "Epoch 36/100\n",
      "900/900 [==============================] - 0s 182us/sample - loss: 0.9451 - acc: 0.7100 - val_loss: 1.3241 - val_acc: 0.5500\n",
      "Epoch 37/100\n",
      "900/900 [==============================] - 0s 190us/sample - loss: 0.9357 - acc: 0.7100 - val_loss: 1.3284 - val_acc: 0.5300\n",
      "Epoch 38/100\n",
      "900/900 [==============================] - 0s 189us/sample - loss: 0.9260 - acc: 0.7156 - val_loss: 1.3173 - val_acc: 0.5200\n",
      "Epoch 39/100\n",
      "900/900 [==============================] - 0s 198us/sample - loss: 0.9154 - acc: 0.7178 - val_loss: 1.3149 - val_acc: 0.5200\n",
      "Epoch 40/100\n",
      "900/900 [==============================] - 0s 238us/sample - loss: 0.9064 - acc: 0.7244 - val_loss: 1.3098 - val_acc: 0.5300\n",
      "Epoch 41/100\n",
      "900/900 [==============================] - 0s 249us/sample - loss: 0.8949 - acc: 0.7233 - val_loss: 1.3148 - val_acc: 0.5400\n",
      "Epoch 42/100\n",
      "900/900 [==============================] - 0s 240us/sample - loss: 0.8868 - acc: 0.7244 - val_loss: 1.3079 - val_acc: 0.5400\n",
      "Epoch 43/100\n",
      "900/900 [==============================] - 0s 253us/sample - loss: 0.8772 - acc: 0.7300 - val_loss: 1.3095 - val_acc: 0.5300\n",
      "Epoch 44/100\n",
      "900/900 [==============================] - 0s 261us/sample - loss: 0.8679 - acc: 0.7467 - val_loss: 1.3015 - val_acc: 0.5400\n",
      "Epoch 45/100\n",
      "900/900 [==============================] - 0s 253us/sample - loss: 0.8606 - acc: 0.7411 - val_loss: 1.3095 - val_acc: 0.5300\n",
      "Epoch 46/100\n",
      "900/900 [==============================] - 0s 255us/sample - loss: 0.8541 - acc: 0.7344 - val_loss: 1.3092 - val_acc: 0.5300\n",
      "Epoch 47/100\n",
      "900/900 [==============================] - 0s 201us/sample - loss: 0.8456 - acc: 0.7478 - val_loss: 1.3045 - val_acc: 0.5300\n",
      "Epoch 48/100\n",
      "900/900 [==============================] - 0s 164us/sample - loss: 0.8372 - acc: 0.7444 - val_loss: 1.3048 - val_acc: 0.5300\n",
      "Epoch 49/100\n",
      "900/900 [==============================] - 0s 170us/sample - loss: 0.8278 - acc: 0.7489 - val_loss: 1.2962 - val_acc: 0.5400\n",
      "Epoch 50/100\n",
      "900/900 [==============================] - 0s 178us/sample - loss: 0.8207 - acc: 0.7456 - val_loss: 1.2967 - val_acc: 0.5200\n",
      "Epoch 51/100\n",
      "900/900 [==============================] - 0s 171us/sample - loss: 0.8116 - acc: 0.7644 - val_loss: 1.2995 - val_acc: 0.5500\n",
      "Epoch 52/100\n",
      "900/900 [==============================] - 0s 169us/sample - loss: 0.8068 - acc: 0.7578 - val_loss: 1.2934 - val_acc: 0.5300\n",
      "Epoch 53/100\n",
      "900/900 [==============================] - 0s 177us/sample - loss: 0.7975 - acc: 0.7633 - val_loss: 1.2998 - val_acc: 0.5400\n",
      "Epoch 54/100\n",
      "900/900 [==============================] - 0s 187us/sample - loss: 0.7906 - acc: 0.7578 - val_loss: 1.2922 - val_acc: 0.5500\n",
      "Epoch 55/100\n",
      "900/900 [==============================] - 0s 173us/sample - loss: 0.7823 - acc: 0.7611 - val_loss: 1.2891 - val_acc: 0.5200\n",
      "Epoch 56/100\n",
      "900/900 [==============================] - 0s 165us/sample - loss: 0.7745 - acc: 0.7656 - val_loss: 1.2834 - val_acc: 0.5200\n",
      "Epoch 57/100\n",
      "900/900 [==============================] - 0s 167us/sample - loss: 0.7682 - acc: 0.7711 - val_loss: 1.2857 - val_acc: 0.5500\n",
      "Epoch 58/100\n",
      "900/900 [==============================] - 0s 166us/sample - loss: 0.7617 - acc: 0.7744 - val_loss: 1.2860 - val_acc: 0.5400\n",
      "Epoch 59/100\n",
      "900/900 [==============================] - 0s 177us/sample - loss: 0.7536 - acc: 0.7656 - val_loss: 1.2910 - val_acc: 0.5300\n",
      "Epoch 60/100\n"
     ]
    },
    {
     "name": "stdout",
     "output_type": "stream",
     "text": [
      "900/900 [==============================] - 0s 173us/sample - loss: 0.7486 - acc: 0.7722 - val_loss: 1.3053 - val_acc: 0.5400\n",
      "Epoch 61/100\n",
      "900/900 [==============================] - 0s 160us/sample - loss: 0.7397 - acc: 0.7756 - val_loss: 1.2852 - val_acc: 0.5400\n",
      "Epoch 62/100\n",
      "900/900 [==============================] - 0s 158us/sample - loss: 0.7336 - acc: 0.7744 - val_loss: 1.2878 - val_acc: 0.5300\n",
      "Epoch 63/100\n",
      "900/900 [==============================] - 0s 164us/sample - loss: 0.7259 - acc: 0.7756 - val_loss: 1.2890 - val_acc: 0.5400\n",
      "Epoch 64/100\n",
      "900/900 [==============================] - 0s 175us/sample - loss: 0.7206 - acc: 0.7856 - val_loss: 1.2916 - val_acc: 0.5400\n",
      "Epoch 65/100\n",
      "900/900 [==============================] - 0s 168us/sample - loss: 0.7136 - acc: 0.7856 - val_loss: 1.3013 - val_acc: 0.5400\n",
      "Epoch 66/100\n",
      "900/900 [==============================] - 0s 172us/sample - loss: 0.7070 - acc: 0.7878 - val_loss: 1.2842 - val_acc: 0.5400\n",
      "Epoch 67/100\n",
      "900/900 [==============================] - 0s 244us/sample - loss: 0.7009 - acc: 0.7900 - val_loss: 1.2947 - val_acc: 0.5300\n",
      "Epoch 68/100\n",
      "900/900 [==============================] - 0s 246us/sample - loss: 0.6962 - acc: 0.7889 - val_loss: 1.2939 - val_acc: 0.5300\n",
      "Epoch 69/100\n",
      "900/900 [==============================] - 0s 247us/sample - loss: 0.6894 - acc: 0.7878 - val_loss: 1.2876 - val_acc: 0.5400\n",
      "Epoch 70/100\n",
      "900/900 [==============================] - 0s 238us/sample - loss: 0.6835 - acc: 0.7944 - val_loss: 1.2840 - val_acc: 0.5300\n",
      "Epoch 71/100\n",
      "900/900 [==============================] - 0s 258us/sample - loss: 0.6770 - acc: 0.8011 - val_loss: 1.2848 - val_acc: 0.5500\n",
      "Epoch 72/100\n",
      "900/900 [==============================] - 0s 246us/sample - loss: 0.6705 - acc: 0.8022 - val_loss: 1.2998 - val_acc: 0.5500\n",
      "Epoch 73/100\n",
      "900/900 [==============================] - 0s 248us/sample - loss: 0.6628 - acc: 0.8044 - val_loss: 1.2895 - val_acc: 0.5400\n",
      "Epoch 74/100\n",
      "900/900 [==============================] - 0s 251us/sample - loss: 0.6587 - acc: 0.8011 - val_loss: 1.2959 - val_acc: 0.5600\n",
      "Epoch 75/100\n",
      "900/900 [==============================] - 0s 265us/sample - loss: 0.6528 - acc: 0.8067 - val_loss: 1.2923 - val_acc: 0.5400\n",
      "Epoch 76/100\n",
      "900/900 [==============================] - 0s 246us/sample - loss: 0.6467 - acc: 0.8056 - val_loss: 1.2797 - val_acc: 0.5400\n",
      "Epoch 77/100\n",
      "900/900 [==============================] - 0s 249us/sample - loss: 0.6416 - acc: 0.8067 - val_loss: 1.2953 - val_acc: 0.5600\n",
      "Epoch 78/100\n",
      "900/900 [==============================] - 0s 252us/sample - loss: 0.6355 - acc: 0.8122 - val_loss: 1.2853 - val_acc: 0.5500\n",
      "Epoch 79/100\n",
      "900/900 [==============================] - 0s 239us/sample - loss: 0.6305 - acc: 0.8122 - val_loss: 1.2949 - val_acc: 0.5600\n",
      "Epoch 80/100\n",
      "900/900 [==============================] - 0s 249us/sample - loss: 0.6234 - acc: 0.8200 - val_loss: 1.2988 - val_acc: 0.5600\n",
      "Epoch 81/100\n",
      "900/900 [==============================] - 0s 246us/sample - loss: 0.6183 - acc: 0.8178 - val_loss: 1.3038 - val_acc: 0.5600\n",
      "Epoch 82/100\n",
      "900/900 [==============================] - 0s 237us/sample - loss: 0.6138 - acc: 0.8167 - val_loss: 1.2971 - val_acc: 0.5700\n",
      "Epoch 83/100\n",
      "900/900 [==============================] - 0s 253us/sample - loss: 0.6076 - acc: 0.8178 - val_loss: 1.3056 - val_acc: 0.5800\n",
      "Epoch 84/100\n",
      "900/900 [==============================] - 0s 243us/sample - loss: 0.6012 - acc: 0.8300 - val_loss: 1.3059 - val_acc: 0.5700\n",
      "Epoch 85/100\n",
      "900/900 [==============================] - 0s 252us/sample - loss: 0.5970 - acc: 0.8244 - val_loss: 1.3008 - val_acc: 0.5700\n",
      "Epoch 86/100\n",
      "900/900 [==============================] - 0s 256us/sample - loss: 0.5908 - acc: 0.8278 - val_loss: 1.3089 - val_acc: 0.5700\n",
      "Epoch 87/100\n",
      "900/900 [==============================] - 0s 218us/sample - loss: 0.5863 - acc: 0.8300 - val_loss: 1.3101 - val_acc: 0.5700\n",
      "Epoch 88/100\n",
      "900/900 [==============================] - 0s 210us/sample - loss: 0.5807 - acc: 0.8267 - val_loss: 1.3088 - val_acc: 0.5700\n",
      "Epoch 89/100\n",
      "900/900 [==============================] - 0s 219us/sample - loss: 0.5764 - acc: 0.8300 - val_loss: 1.3004 - val_acc: 0.5800\n",
      "Epoch 90/100\n",
      "900/900 [==============================] - 0s 197us/sample - loss: 0.5695 - acc: 0.8267 - val_loss: 1.3010 - val_acc: 0.5800\n",
      "Epoch 91/100\n",
      "900/900 [==============================] - 0s 180us/sample - loss: 0.5656 - acc: 0.8344 - val_loss: 1.3172 - val_acc: 0.5700\n",
      "Epoch 92/100\n",
      "900/900 [==============================] - 0s 190us/sample - loss: 0.5592 - acc: 0.8333 - val_loss: 1.3053 - val_acc: 0.5800\n",
      "Epoch 93/100\n",
      "900/900 [==============================] - 0s 193us/sample - loss: 0.5529 - acc: 0.8433 - val_loss: 1.3088 - val_acc: 0.5800\n",
      "Epoch 94/100\n",
      "900/900 [==============================] - 0s 187us/sample - loss: 0.5493 - acc: 0.8378 - val_loss: 1.3153 - val_acc: 0.5700\n",
      "Epoch 95/100\n",
      "900/900 [==============================] - 0s 182us/sample - loss: 0.5450 - acc: 0.8344 - val_loss: 1.3096 - val_acc: 0.5700\n",
      "Epoch 96/100\n",
      "900/900 [==============================] - 0s 188us/sample - loss: 0.5399 - acc: 0.8433 - val_loss: 1.3061 - val_acc: 0.5700\n",
      "Epoch 97/100\n",
      "900/900 [==============================] - 0s 189us/sample - loss: 0.5339 - acc: 0.8422 - val_loss: 1.3259 - val_acc: 0.5800\n",
      "Epoch 98/100\n",
      "900/900 [==============================] - 0s 195us/sample - loss: 0.5281 - acc: 0.8456 - val_loss: 1.3166 - val_acc: 0.5800\n",
      "Epoch 99/100\n",
      "900/900 [==============================] - 0s 185us/sample - loss: 0.5243 - acc: 0.8533 - val_loss: 1.3348 - val_acc: 0.5800\n",
      "Epoch 100/100\n",
      "900/900 [==============================] - 0s 184us/sample - loss: 0.5199 - acc: 0.8467 - val_loss: 1.3230 - val_acc: 0.5800\n"
     ]
    }
   ],
   "source": [
    "history = model.fit(trn_x,trn_y,\n",
    "                    batch_size=10,\n",
    "                    epochs=100,\n",
    "                    validation_data=(val_x,val_y))"
   ]
  },
  {
   "cell_type": "code",
   "execution_count": 12,
   "metadata": {},
   "outputs": [
    {
     "data": {
      "text/plain": [
       "<matplotlib.legend.Legend at 0x7f699474c950>"
      ]
     },
     "execution_count": 12,
     "metadata": {},
     "output_type": "execute_result"
    },
    {
     "data": {
      "image/png": "[encoded data removed]",
      "text/plain": [
       "<Figure size 500x500 with 1 Axes>"
      ]
     },
     "metadata": {
      "needs_background": "light"
     },
     "output_type": "display_data"
    }
   ],
   "source": [
    "plt.figure(figsize=(5,5),dpi=100)\n",
    "plt.plot(history.history['loss'],label='training loss')\n",
    "plt.plot(history.history['val_loss'],label='validation loss')\n",
    "plt.legend(loc='upper right')"
   ]
  },
  {
   "cell_type": "code",
   "execution_count": null,
   "metadata": {},
   "outputs": [],
   "source": []
  }
 ],
 "metadata": {
  "kernelspec": {
   "display_name": "Python 3",
   "language": "python",
   "name": "python3"
  },
  "language_info": {
   "codemirror_mode": {
    "name": "ipython",
    "version": 3
   },
   "file_extension": ".py",
   "mimetype": "text/x-python",
   "name": "python",
   "nbconvert_exporter": "python",
   "pygments_lexer": "ipython3",
   "version": "3.7.5"
  },
  "widgets": {
   "application/vnd.jupyter.widget-state+json": {
    "state": {
     "00114ef33f6d40369e7722a215a2e4a9": {
      "model_module": "@jupyter-widgets/controls",
      "model_module_version": "1.5.0",
      "model_name": "HBoxModel",
      "state": {
       "children": [
        "IPY_MODEL_3ce67bd50bcb4f4099019ded3c62e1e4",
        "IPY_MODEL_50fc561375894966ba6032047a6c77b7"
       ],
       "layout": "IPY_MODEL_f8a770d5bc7946438220cc15e924fec3"
      }
     },
     "00aead1376424545bb3e5dfa6cd4127d": {
      "model_module": "@jupyter-widgets/base",
      "model_module_version": "1.2.0",
      "model_name": "LayoutModel",
      "state": {}
     },
     "00b7d33286ff4db39e882d05ac21a649": {
      "model_module": "@jupyter-widgets/controls",
      "model_module_version": "1.5.0",
      "model_name": "FloatProgressModel",
      "state": {
       "bar_style": "success",
       "description": "blues: 100%",
       "layout": "IPY_MODEL_305bbddb885449cab81dab1f757d0853",
       "style": "IPY_MODEL_629eb137235a47c6aaa8a5c449de5873",
       "value": 100
      }
     },
     "01695f9d71c2419a9004da4958e8ca03": {
      "model_module": "@jupyter-widgets/base",
      "model_module_version": "1.2.0",
      "model_name": "LayoutModel",
      "state": {}
     },
     "01ecd967cfcc4ac4a3ef82225b46d51c": {
      "model_module": "@jupyter-widgets/controls",
      "model_module_version": "1.5.0",
      "model_name": "HBoxModel",
      "state": {
       "children": [
        "IPY_MODEL_28795ea39cf7465fbc14661d0c5b1f4d",
        "IPY_MODEL_46bf896842204efbae8e8f2f9b1fdd81"
       ],
       "layout": "IPY_MODEL_024798248d434cbe81d7a34b88891f61"
      }
     },
     "024798248d434cbe81d7a34b88891f61": {
      "model_module": "@jupyter-widgets/base",
      "model_module_version": "1.2.0",
      "model_name": "LayoutModel",
      "state": {}
     },
     "03aa87f0893c46b68051eb0a8f153116": {
      "model_module": "@jupyter-widgets/base",
      "model_module_version": "1.2.0",
      "model_name": "LayoutModel",
      "state": {}
     },
     "03b8f5bc5a3449beab0e2c4421739fb3": {
      "model_module": "@jupyter-widgets/controls",
      "model_module_version": "1.5.0",
      "model_name": "FloatProgressModel",
      "state": {
       "bar_style": "success",
       "description": "blues: 100%",
       "layout": "IPY_MODEL_fb9b0ffbcfb14ff9adb2f6a5d97f1eb2",
       "style": "IPY_MODEL_2a74a211d3da48f98994f227c48b09da",
       "value": 100
      }
     },
     "03cb1620180c4511b58edb3fd3e273e3": {
      "model_module": "@jupyter-widgets/controls",
      "model_module_version": "1.5.0",
      "model_name": "HBoxModel",
      "state": {
       "children": [
        "IPY_MODEL_d912720e6d4b4230b86337ed5c39ff8b",
        "IPY_MODEL_33f184bf03ef4edc9e12de9379863c15"
       ],
       "layout": "IPY_MODEL_2d4d8548c5df44a98b535f7b09a6ed36"
      }
     },
     "03f97a6d84094fefa180ae15753ed369": {
      "model_module": "@jupyter-widgets/controls",
      "model_module_version": "1.5.0",
      "model_name": "HBoxModel",
      "state": {
       "children": [
        "IPY_MODEL_28eaf371f8644c3eac5e76800dedbb18",
        "IPY_MODEL_5ec6d8b7acf2460fb62d76d65f1419fa"
       ],
       "layout": "IPY_MODEL_69d205d7f57545b58d274006b17998a7"
      }
     },
     "06b2c3ddefa24c15b952f521fb042d46": {
      "model_module": "@jupyter-widgets/controls",
      "model_module_version": "1.5.0",
      "model_name": "HBoxModel",
      "state": {
       "children": [
        "IPY_MODEL_52eac7fae5614e5eb80c9d6059b3fad1",
        "IPY_MODEL_29df1463f25e4cf1bb2686a81d3f5082"
       ],
       "layout": "IPY_MODEL_433d26c0981e43e5b0c254a7c9759b77"
      }
     },
     "06ce091f5b6346e08bb0b6095e87f7f6": {
      "model_module": "@jupyter-widgets/base",
      "model_module_version": "1.2.0",
      "model_name": "LayoutModel",
      "state": {}
     },
     "0716bbc692de4867a2e823eade0afa4a": {
      "model_module": "@jupyter-widgets/controls",
      "model_module_version": "1.5.0",
      "model_name": "HTMLModel",
      "state": {
       "layout": "IPY_MODEL_991349731398416f9faf69fa9b1d38d4",
       "style": "IPY_MODEL_cb270a79e03d4ffab854b44da2b27d91",
       "value": " 100/100 [00:00&lt;00:00, 103.71it/s]"
      }
     },
     "076ff86a5b774f28b1cc8ad0508bf8b9": {
      "model_module": "@jupyter-widgets/base",
      "model_module_version": "1.2.0",
      "model_name": "LayoutModel",
      "state": {}
     },
     "077561a1e44f4474ae5aa3ba56fc7dd7": {
      "model_module": "@jupyter-widgets/controls",
      "model_module_version": "1.5.0",
      "model_name": "HBoxModel",
      "state": {
       "children": [
        "IPY_MODEL_3a77ae13fe5943ff99980471a3141542",
        "IPY_MODEL_6abe50add3d44b29aed92822771a3313"
       ],
       "layout": "IPY_MODEL_9d2000aaec80405180be68b7d812fa5e"
      }
     },
     "07eb485125a7422c95829e96ba5182bc": {
      "model_module": "@jupyter-widgets/base",
      "model_module_version": "1.2.0",
      "model_name": "LayoutModel",
      "state": {}
     },
     "085308e6b906484fa8d8d3caae791372": {
      "model_module": "@jupyter-widgets/base",
      "model_module_version": "1.2.0",
      "model_name": "LayoutModel",
      "state": {}
     },
     "093cd59ea53e4571bea63fd77d58aaee": {
      "model_module": "@jupyter-widgets/controls",
      "model_module_version": "1.5.0",
      "model_name": "ProgressStyleModel",
      "state": {
       "description_width": "initial"
      }
     },
     "093f02220fc84ac195fe0807a1c749e6": {
      "model_module": "@jupyter-widgets/base",
      "model_module_version": "1.2.0",
      "model_name": "LayoutModel",
      "state": {}
     },
     "094eba55053a4a72901faacc10f5b8d5": {
      "model_module": "@jupyter-widgets/base",
      "model_module_version": "1.2.0",
      "model_name": "LayoutModel",
      "state": {}
     },
     "09542988f64b48cdb94f6ad922dae023": {
      "model_module": "@jupyter-widgets/base",
      "model_module_version": "1.2.0",
      "model_name": "LayoutModel",
      "state": {}
     },
     "09cd194b62224db0be8cb5a844dfea3b": {
      "model_module": "@jupyter-widgets/controls",
      "model_module_version": "1.5.0",
      "model_name": "DescriptionStyleModel",
      "state": {
       "description_width": ""
      }
     },
     "09fce4e89084472baeb5f5e613c6bf1b": {
      "model_module": "@jupyter-widgets/controls",
      "model_module_version": "1.5.0",
      "model_name": "HBoxModel",
      "state": {
       "children": [
        "IPY_MODEL_ad16db0d8257419ca83613889d6a0898",
        "IPY_MODEL_40e3e62c6f2d447295022a810e5abf77"
       ],
       "layout": "IPY_MODEL_1a4cde66230045189cf5873b1a53ecf9"
      }
     },
     "0a5685506fa04b8387e1788aa845ae9b": {
      "model_module": "@jupyter-widgets/base",
      "model_module_version": "1.2.0",
      "model_name": "LayoutModel",
      "state": {}
     },
     "0a56e5f87950436bb0a9680d55d9617e": {
      "model_module": "@jupyter-widgets/base",
      "model_module_version": "1.2.0",
      "model_name": "LayoutModel",
      "state": {}
     },
     "0a61cdb2533e4a0ebea141792516386a": {
      "model_module": "@jupyter-widgets/controls",
      "model_module_version": "1.5.0",
      "model_name": "FloatProgressModel",
      "state": {
       "bar_style": "success",
       "description": "hiphop: 100%",
       "layout": "IPY_MODEL_5af473aedda943998168714db7300d45",
       "style": "IPY_MODEL_633a5dd9fe1b41adbf2b3cb330583b10",
       "value": 100
      }
     },
     "0b9e1602271940bb91281b8912a60b6e": {
      "model_module": "@jupyter-widgets/base",
      "model_module_version": "1.2.0",
      "model_name": "LayoutModel",
      "state": {}
     },
     "0c4810b28a184bea8915606576b60657": {
      "model_module": "@jupyter-widgets/base",
      "model_module_version": "1.2.0",
      "model_name": "LayoutModel",
      "state": {}
     },
     "0d20ce104a914254a816476159e63de9": {
      "model_module": "@jupyter-widgets/controls",
      "model_module_version": "1.5.0",
      "model_name": "DescriptionStyleModel",
      "state": {
       "description_width": ""
      }
     },
     "0e32287e95c34001b4c5fa6363f7614f": {
      "model_module": "@jupyter-widgets/controls",
      "model_module_version": "1.5.0",
      "model_name": "HBoxModel",
      "state": {
       "children": [
        "IPY_MODEL_f8467a7227e14b99a3d9d09722ae5e16",
        "IPY_MODEL_54c356423867498ca80e14ee42a16695"
       ],
       "layout": "IPY_MODEL_b3690c54e9434ecdb99da8759e0ce446"
      }
     },
     "0fd549502bc844a1842bd93f7fa7e224": {
      "model_module": "@jupyter-widgets/base",
      "model_module_version": "1.2.0",
      "model_name": "LayoutModel",
      "state": {}
     },
     "0fdff72773144c449bbccb4acd679bc7": {
      "model_module": "@jupyter-widgets/controls",
      "model_module_version": "1.5.0",
      "model_name": "FloatProgressModel",
      "state": {
       "bar_style": "danger",
       "description": "disco:   0%",
       "layout": "IPY_MODEL_1f4c3bf8b5af45f8aa6717f998724f29",
       "style": "IPY_MODEL_b9050f5951bb43339afb8f34b25491e0"
      }
     },
     "112b6970b0354bb899358c482d0d84d5": {
      "model_module": "@jupyter-widgets/controls",
      "model_module_version": "1.5.0",
      "model_name": "HBoxModel",
      "state": {
       "children": [
        "IPY_MODEL_6c2f7cc945864a209fd3685e3714e43e",
        "IPY_MODEL_bb1c097d392d428fa3a8a84b053925b8"
       ],
       "layout": "IPY_MODEL_83c39a2b3f6e4c1fbf5abb66a3ea62bb"
      }
     },
     "11a9bbc09f3948139faae973535e8346": {
      "model_module": "@jupyter-widgets/base",
      "model_module_version": "1.2.0",
      "model_name": "LayoutModel",
      "state": {}
     },
     "130e92a9821749199691ff064600eff7": {
      "model_module": "@jupyter-widgets/controls",
      "model_module_version": "1.5.0",
      "model_name": "DescriptionStyleModel",
      "state": {
       "description_width": ""
      }
     },
     "135df494266a4042bf8ac6ef1929be2c": {
      "model_module": "@jupyter-widgets/base",
      "model_module_version": "1.2.0",
      "model_name": "LayoutModel",
      "state": {}
     },
     "13d8df163bbd47a9b2d43cc56f2a874a": {
      "model_module": "@jupyter-widgets/base",
      "model_module_version": "1.2.0",
      "model_name": "LayoutModel",
      "state": {}
     },
     "142832ee67fe4af7ab63a2ed39bc42f5": {
      "model_module": "@jupyter-widgets/controls",
      "model_module_version": "1.5.0",
      "model_name": "DescriptionStyleModel",
      "state": {
       "description_width": ""
      }
     },
     "14757aeeb56640478f21bbc55a8b04cc": {
      "model_module": "@jupyter-widgets/controls",
      "model_module_version": "1.5.0",
      "model_name": "ProgressStyleModel",
      "state": {
       "description_width": "initial"
      }
     },
     "149372b408cc48679efcbd7b1296a5c9": {
      "model_module": "@jupyter-widgets/controls",
      "model_module_version": "1.5.0",
      "model_name": "ProgressStyleModel",
      "state": {
       "description_width": "initial"
      }
     },
     "1630591901c74522a4ae5dc1ea0aca43": {
      "model_module": "@jupyter-widgets/base",
      "model_module_version": "1.2.0",
      "model_name": "LayoutModel",
      "state": {}
     },
     "1652d61f4aae4bb0befdf4806cb259e0": {
      "model_module": "@jupyter-widgets/controls",
      "model_module_version": "1.5.0",
      "model_name": "HTMLModel",
      "state": {
       "layout": "IPY_MODEL_4d8116bc2d464beebc0f43c79d7edc0d",
       "style": "IPY_MODEL_4630e77b29a24969bbf651a323f410f5",
       "value": " 100/100 [00:05&lt;00:00, 16.71it/s]"
      }
     },
     "17e2f0eb947b4773af9971b2ee3a7872": {
      "model_module": "@jupyter-widgets/controls",
      "model_module_version": "1.5.0",
      "model_name": "ProgressStyleModel",
      "state": {
       "description_width": "initial"
      }
     },
     "17f53d5240c145eab641e990d8aca776": {
      "model_module": "@jupyter-widgets/controls",
      "model_module_version": "1.5.0",
      "model_name": "HBoxModel",
      "state": {
       "children": [
        "IPY_MODEL_bf1589ec543444dfae6680fcc1d01c8d",
        "IPY_MODEL_c53d7806a84545e6af6d39bca038f6ee"
       ],
       "layout": "IPY_MODEL_231a126675364cb79c6aa2679e9920b3"
      }
     },
     "18273e15090d4e5c9ac5af3ff5ae1a6d": {
      "model_module": "@jupyter-widgets/base",
      "model_module_version": "1.2.0",
      "model_name": "LayoutModel",
      "state": {}
     },
     "18607a2de6bf43c5a584faacd0bd001f": {
      "model_module": "@jupyter-widgets/controls",
      "model_module_version": "1.5.0",
      "model_name": "HTMLModel",
      "state": {
       "layout": "IPY_MODEL_0fd549502bc844a1842bd93f7fa7e224",
       "style": "IPY_MODEL_640e77f662f4404da626af7a66e8c0e2",
       "value": " 100/100 [00:04&lt;00:00, 21.34it/s]"
      }
     },
     "1a1b08d122ff4e778b2b02c98946ced2": {
      "model_module": "@jupyter-widgets/controls",
      "model_module_version": "1.5.0",
      "model_name": "HBoxModel",
      "state": {
       "children": [
        "IPY_MODEL_cba920dd38084848b9fd543b1dea1bb3",
        "IPY_MODEL_7434b7ce136a4c56991f86266c1595dc"
       ],
       "layout": "IPY_MODEL_6dab6f757907405a8e241eb9c657c9a0"
      }
     },
     "1a1e9d435906430fb0da8be21cf1fece": {
      "model_module": "@jupyter-widgets/controls",
      "model_module_version": "1.5.0",
      "model_name": "HTMLModel",
      "state": {
       "layout": "IPY_MODEL_1630591901c74522a4ae5dc1ea0aca43",
       "style": "IPY_MODEL_891fc540953d462cb711e456cd49f5d7",
       "value": " 100/100 [00:31&lt;00:00,  3.21it/s]"
      }
     },
     "1a4cde66230045189cf5873b1a53ecf9": {
      "model_module": "@jupyter-widgets/base",
      "model_module_version": "1.2.0",
      "model_name": "LayoutModel",
      "state": {}
     },
     "1aa176c8428e437386ed99ade51d05c2": {
      "model_module": "@jupyter-widgets/base",
      "model_module_version": "1.2.0",
      "model_name": "LayoutModel",
      "state": {}
     },
     "1b5ff08d487c40d79f33c938aa64e125": {
      "model_module": "@jupyter-widgets/controls",
      "model_module_version": "1.5.0",
      "model_name": "FloatProgressModel",
      "state": {
       "bar_style": "success",
       "description": "jazz: 100%",
       "layout": "IPY_MODEL_a507881409ef491aae736fd6f0fe3fdd",
       "style": "IPY_MODEL_b1c4823d796d4964b3280d8b46f797b4",
       "value": 100
      }
     },
     "1c5b8e471ce741a59df683c5b54272ae": {
      "model_module": "@jupyter-widgets/base",
      "model_module_version": "1.2.0",
      "model_name": "LayoutModel",
      "state": {}
     },
     "1d15f37016b54697b9070a79af143ea7": {
      "model_module": "@jupyter-widgets/base",
      "model_module_version": "1.2.0",
      "model_name": "LayoutModel",
      "state": {}
     },
     "1d35f06081644de0ba2513b3d951575e": {
      "model_module": "@jupyter-widgets/controls",
      "model_module_version": "1.5.0",
      "model_name": "ProgressStyleModel",
      "state": {
       "description_width": "initial"
      }
     },
     "1f0e0e9c2adb4a3c8269c0420286b1bd": {
      "model_module": "@jupyter-widgets/controls",
      "model_module_version": "1.5.0",
      "model_name": "ProgressStyleModel",
      "state": {
       "description_width": "initial"
      }
     },
     "1f4c3bf8b5af45f8aa6717f998724f29": {
      "model_module": "@jupyter-widgets/base",
      "model_module_version": "1.2.0",
      "model_name": "LayoutModel",
      "state": {}
     },
     "1f536e8cd83b4435a38d47519107e68b": {
      "model_module": "@jupyter-widgets/base",
      "model_module_version": "1.2.0",
      "model_name": "LayoutModel",
      "state": {}
     },
     "1f9df1d1596c4acba697e0d3919213a6": {
      "model_module": "@jupyter-widgets/controls",
      "model_module_version": "1.5.0",
      "model_name": "FloatProgressModel",
      "state": {
       "bar_style": "success",
       "description": "disco: 100%",
       "layout": "IPY_MODEL_0a56e5f87950436bb0a9680d55d9617e",
       "style": "IPY_MODEL_a1198776b06c4871aac5d74ddc90ecf9",
       "value": 100
      }
     },
     "1fc35111162f420dbc171f8bab6a1618": {
      "model_module": "@jupyter-widgets/controls",
      "model_module_version": "1.5.0",
      "model_name": "HBoxModel",
      "state": {
       "children": [
        "IPY_MODEL_de2d6ea83b5b4567b9a6e0fbf154cd0f",
        "IPY_MODEL_46b55895e31449d3a2134baa58ff75b8"
       ],
       "layout": "IPY_MODEL_9dbac2a02b284d33b807017183cc36c8"
      }
     },
     "20f406dc575742caaa26ed407121ef6a": {
      "model_module": "@jupyter-widgets/controls",
      "model_module_version": "1.5.0",
      "model_name": "DescriptionStyleModel",
      "state": {
       "description_width": ""
      }
     },
     "215ccbcbb4094075b370ff9246f58319": {
      "model_module": "@jupyter-widgets/controls",
      "model_module_version": "1.5.0",
      "model_name": "ProgressStyleModel",
      "state": {
       "description_width": "initial"
      }
     },
     "221ece466ff841048d6c246e57e17e35": {
      "model_module": "@jupyter-widgets/controls",
      "model_module_version": "1.5.0",
      "model_name": "FloatProgressModel",
      "state": {
       "bar_style": "success",
       "description": "metal: 100%",
       "layout": "IPY_MODEL_72342dca9cb44033a15e0eadec7150c0",
       "style": "IPY_MODEL_215ccbcbb4094075b370ff9246f58319",
       "value": 100
      }
     },
     "231a126675364cb79c6aa2679e9920b3": {
      "model_module": "@jupyter-widgets/base",
      "model_module_version": "1.2.0",
      "model_name": "LayoutModel",
      "state": {}
     },
     "23ab73ac1119461da09947326d6e4f7c": {
      "model_module": "@jupyter-widgets/base",
      "model_module_version": "1.2.0",
      "model_name": "LayoutModel",
      "state": {}
     },
     "245b3dce8412415e9b1845e626aa5e7c": {
      "model_module": "@jupyter-widgets/base",
      "model_module_version": "1.2.0",
      "model_name": "LayoutModel",
      "state": {}
     },
     "2514921eae834192966a69b9bdcc9761": {
      "model_module": "@jupyter-widgets/controls",
      "model_module_version": "1.5.0",
      "model_name": "FloatProgressModel",
      "state": {
       "bar_style": "success",
       "description": "rock: 100%",
       "layout": "IPY_MODEL_aa2403cac82e444a821a8e146e8ed196",
       "style": "IPY_MODEL_3bef2ef93a9342abaf9831e5f64017de",
       "value": 100
      }
     },
     "262a6d117fc24af68f954862e5e8b5bf": {
      "model_module": "@jupyter-widgets/base",
      "model_module_version": "1.2.0",
      "model_name": "LayoutModel",
      "state": {}
     },
     "27d5239d3cab495caecfb588812fdcf7": {
      "model_module": "@jupyter-widgets/base",
      "model_module_version": "1.2.0",
      "model_name": "LayoutModel",
      "state": {}
     },
     "28795ea39cf7465fbc14661d0c5b1f4d": {
      "model_module": "@jupyter-widgets/controls",
      "model_module_version": "1.5.0",
      "model_name": "FloatProgressModel",
      "state": {
       "bar_style": "success",
       "description": "pop: 100%",
       "layout": "IPY_MODEL_377d39d5dffc461aaebc527b1841fb52",
       "style": "IPY_MODEL_de38c44dee334bba92a8c264706fa08e",
       "value": 100
      }
     },
     "28a3f4787d0f44a98855cf9593dd2b85": {
      "model_module": "@jupyter-widgets/base",
      "model_module_version": "1.2.0",
      "model_name": "LayoutModel",
      "state": {}
     },
     "28eaf371f8644c3eac5e76800dedbb18": {
      "model_module": "@jupyter-widgets/controls",
      "model_module_version": "1.5.0",
      "model_name": "FloatProgressModel",
      "state": {
       "bar_style": "success",
       "description": "classical: 100%",
       "layout": "IPY_MODEL_07eb485125a7422c95829e96ba5182bc",
       "style": "IPY_MODEL_17e2f0eb947b4773af9971b2ee3a7872",
       "value": 100
      }
     },
     "28f3489b42d04adb8c4ae9e3b875a1d2": {
      "model_module": "@jupyter-widgets/base",
      "model_module_version": "1.2.0",
      "model_name": "LayoutModel",
      "state": {}
     },
     "293f743a25e8409faa8602fbcdff1442": {
      "model_module": "@jupyter-widgets/base",
      "model_module_version": "1.2.0",
      "model_name": "LayoutModel",
      "state": {}
     },
     "29df1463f25e4cf1bb2686a81d3f5082": {
      "model_module": "@jupyter-widgets/controls",
      "model_module_version": "1.5.0",
      "model_name": "HTMLModel",
      "state": {
       "layout": "IPY_MODEL_565e76d4fc954660bb36f8df66f29aaf",
       "style": "IPY_MODEL_f4653a141538426cbbbf2b7c679e93de",
       "value": " 100/100 [00:31&lt;00:00,  3.14it/s]"
      }
     },
     "2a31645f4de642a299e4c7dc74d0d347": {
      "model_module": "@jupyter-widgets/controls",
      "model_module_version": "1.5.0",
      "model_name": "ProgressStyleModel",
      "state": {
       "description_width": "initial"
      }
     },
     "2a74a211d3da48f98994f227c48b09da": {
      "model_module": "@jupyter-widgets/controls",
      "model_module_version": "1.5.0",
      "model_name": "ProgressStyleModel",
      "state": {
       "description_width": "initial"
      }
     },
     "2af3371b7f8d40a2ad3cd26bfad40c75": {
      "model_module": "@jupyter-widgets/base",
      "model_module_version": "1.2.0",
      "model_name": "LayoutModel",
      "state": {}
     },
     "2c216ffa20d44801b3ea3469fe59809f": {
      "model_module": "@jupyter-widgets/base",
      "model_module_version": "1.2.0",
      "model_name": "LayoutModel",
      "state": {}
     },
     "2d4d8548c5df44a98b535f7b09a6ed36": {
      "model_module": "@jupyter-widgets/base",
      "model_module_version": "1.2.0",
      "model_name": "LayoutModel",
      "state": {}
     },
     "2fb879f8588e4001b758ec2f83e59ea9": {
      "model_module": "@jupyter-widgets/controls",
      "model_module_version": "1.5.0",
      "model_name": "HTMLModel",
      "state": {
       "layout": "IPY_MODEL_03aa87f0893c46b68051eb0a8f153116",
       "style": "IPY_MODEL_f5e28e7c8dfd4397b389a939a216b0e4",
       "value": " 100/100 [00:00&lt;00:00, 150.46it/s]"
      }
     },
     "305bbddb885449cab81dab1f757d0853": {
      "model_module": "@jupyter-widgets/base",
      "model_module_version": "1.2.0",
      "model_name": "LayoutModel",
      "state": {}
     },
     "3125208c55064a73b01375035a574433": {
      "model_module": "@jupyter-widgets/controls",
      "model_module_version": "1.5.0",
      "model_name": "HTMLModel",
      "state": {
       "layout": "IPY_MODEL_af2e664ed8f4456a8477d50ae0b7038f",
       "style": "IPY_MODEL_130e92a9821749199691ff064600eff7",
       "value": " 100/100 [01:27&lt;00:00,  1.15it/s]"
      }
     },
     "3135d1ddff844813a8dc46be056b095f": {
      "model_module": "@jupyter-widgets/controls",
      "model_module_version": "1.5.0",
      "model_name": "ProgressStyleModel",
      "state": {
       "description_width": "initial"
      }
     },
     "3253a42e34cd496faac9071a817323fb": {
      "model_module": "@jupyter-widgets/controls",
      "model_module_version": "1.5.0",
      "model_name": "HBoxModel",
      "state": {
       "children": [
        "IPY_MODEL_b132e553adb24d3484fcce2f2457f81c",
        "IPY_MODEL_8684b277f4af43068db83f7ef4219f6b"
       ],
       "layout": "IPY_MODEL_32dc84a9c1774f1ca04dba5b1abbe54d"
      }
     },
     "32b3b7d0abde48d4bb13c4b89dff5b55": {
      "model_module": "@jupyter-widgets/controls",
      "model_module_version": "1.5.0",
      "model_name": "HBoxModel",
      "state": {
       "children": [
        "IPY_MODEL_eb031a0babf549c9a41a471fdfe639fc",
        "IPY_MODEL_7fc779c287104acca9b3a33090338cad"
       ],
       "layout": "IPY_MODEL_13d8df163bbd47a9b2d43cc56f2a874a"
      }
     },
     "32c3564f9f0a4edc9d7a0e1c9afb0002": {
      "model_module": "@jupyter-widgets/controls",
      "model_module_version": "1.5.0",
      "model_name": "HTMLModel",
      "state": {
       "layout": "IPY_MODEL_cddfcf3724c44829a0224608e13e4f43",
       "style": "IPY_MODEL_b80557bd047641008f5514161ee649b7",
       "value": " 100/100 [00:00&lt;00:00, 143.88it/s]"
      }
     },
     "32dc84a9c1774f1ca04dba5b1abbe54d": {
      "model_module": "@jupyter-widgets/base",
      "model_module_version": "1.2.0",
      "model_name": "LayoutModel",
      "state": {}
     },
     "333fd5b43d71407faaaef0ccf5b85e05": {
      "model_module": "@jupyter-widgets/controls",
      "model_module_version": "1.5.0",
      "model_name": "DescriptionStyleModel",
      "state": {
       "description_width": ""
      }
     },
     "335ac185ff1049de95563a1cf5e6f8f5": {
      "model_module": "@jupyter-widgets/controls",
      "model_module_version": "1.5.0",
      "model_name": "HBoxModel",
      "state": {
       "children": [
        "IPY_MODEL_0a61cdb2533e4a0ebea141792516386a",
        "IPY_MODEL_78e7b0e41756415da9d089b6e4524098"
       ],
       "layout": "IPY_MODEL_f4cec09a960c4b5fbdcc8e6a87a215a5"
      }
     },
     "33e74f6117354165945445a1aaca014c": {
      "model_module": "@jupyter-widgets/controls",
      "model_module_version": "1.5.0",
      "model_name": "ProgressStyleModel",
      "state": {
       "description_width": "initial"
      }
     },
     "33f184bf03ef4edc9e12de9379863c15": {
      "model_module": "@jupyter-widgets/controls",
      "model_module_version": "1.5.0",
      "model_name": "HTMLModel",
      "state": {
       "layout": "IPY_MODEL_23ab73ac1119461da09947326d6e4f7c",
       "style": "IPY_MODEL_6ac43dd221974820a7407f00b9b6401c",
       "value": " 100/100 [00:02&lt;00:00, 44.63it/s]"
      }
     },
     "342c87d479154615b6142475a022e780": {
      "model_module": "@jupyter-widgets/controls",
      "model_module_version": "1.5.0",
      "model_name": "ProgressStyleModel",
      "state": {
       "description_width": "initial"
      }
     },
     "3569b5c567944a4fbaf7d6b0908a0a34": {
      "model_module": "@jupyter-widgets/controls",
      "model_module_version": "1.5.0",
      "model_name": "DescriptionStyleModel",
      "state": {
       "description_width": ""
      }
     },
     "377d39d5dffc461aaebc527b1841fb52": {
      "model_module": "@jupyter-widgets/base",
      "model_module_version": "1.2.0",
      "model_name": "LayoutModel",
      "state": {}
     },
     "37e7b6916c1b4df59a35de097b42c771": {
      "model_module": "@jupyter-widgets/base",
      "model_module_version": "1.2.0",
      "model_name": "LayoutModel",
      "state": {}
     },
     "3a77ae13fe5943ff99980471a3141542": {
      "model_module": "@jupyter-widgets/controls",
      "model_module_version": "1.5.0",
      "model_name": "FloatProgressModel",
      "state": {
       "bar_style": "success",
       "description": "pop: 100%",
       "layout": "IPY_MODEL_085308e6b906484fa8d8d3caae791372",
       "style": "IPY_MODEL_fef079c0dc514a159c3c2d5a4b09ac71",
       "value": 100
      }
     },
     "3bdbc56b9ba043a7858aa8e8f1b83b25": {
      "model_module": "@jupyter-widgets/controls",
      "model_module_version": "1.5.0",
      "model_name": "HTMLModel",
      "state": {
       "layout": "IPY_MODEL_792acabf9b54459181d36508e9a8b8f4",
       "style": "IPY_MODEL_aa8af9f4ea8d451d9b11a40aa5007500",
       "value": " 100/100 [00:01&lt;00:00, 51.67it/s]"
      }
     },
     "3bef2ef93a9342abaf9831e5f64017de": {
      "model_module": "@jupyter-widgets/controls",
      "model_module_version": "1.5.0",
      "model_name": "ProgressStyleModel",
      "state": {
       "description_width": "initial"
      }
     },
     "3ce67bd50bcb4f4099019ded3c62e1e4": {
      "model_module": "@jupyter-widgets/controls",
      "model_module_version": "1.5.0",
      "model_name": "FloatProgressModel",
      "state": {
       "bar_style": "success",
       "description": "classical: 100%",
       "layout": "IPY_MODEL_e4966d215de04f14b407a434909faefd",
       "style": "IPY_MODEL_4506ccda1dc9448a9bec2bfc98c3e8e4",
       "value": 100
      }
     },
     "3e25e0542e7c4cdaa32035ffcf9afaea": {
      "model_module": "@jupyter-widgets/base",
      "model_module_version": "1.2.0",
      "model_name": "LayoutModel",
      "state": {}
     },
     "3f920878100d46d99a20c461892a213e": {
      "model_module": "@jupyter-widgets/base",
      "model_module_version": "1.2.0",
      "model_name": "LayoutModel",
      "state": {}
     },
     "3ffa5b515d564a82b59054f6ff2415ee": {
      "model_module": "@jupyter-widgets/controls",
      "model_module_version": "1.5.0",
      "model_name": "DescriptionStyleModel",
      "state": {
       "description_width": ""
      }
     },
     "40e3e62c6f2d447295022a810e5abf77": {
      "model_module": "@jupyter-widgets/controls",
      "model_module_version": "1.5.0",
      "model_name": "HTMLModel",
      "state": {
       "layout": "IPY_MODEL_37e7b6916c1b4df59a35de097b42c771",
       "style": "IPY_MODEL_8bd75ed50af049ecb367ed6fd3786d24",
       "value": " 100/100 [01:21&lt;00:00,  1.23it/s]"
      }
     },
     "41efb6c45b3f4eca904391deceaab5c6": {
      "model_module": "@jupyter-widgets/controls",
      "model_module_version": "1.5.0",
      "model_name": "HBoxModel",
      "state": {
       "children": [
        "IPY_MODEL_60e3873640534a2ba8b800deb1e8a775",
        "IPY_MODEL_3125208c55064a73b01375035a574433"
       ],
       "layout": "IPY_MODEL_54201b31f04442c2853695ed433c10e0"
      }
     },
     "4230f6b98aee44deadc6f7e94bb6bd7d": {
      "model_module": "@jupyter-widgets/base",
      "model_module_version": "1.2.0",
      "model_name": "LayoutModel",
      "state": {}
     },
     "433d26c0981e43e5b0c254a7c9759b77": {
      "model_module": "@jupyter-widgets/base",
      "model_module_version": "1.2.0",
      "model_name": "LayoutModel",
      "state": {}
     },
     "44e697a1504b4d7fba7402995416f907": {
      "model_module": "@jupyter-widgets/base",
      "model_module_version": "1.2.0",
      "model_name": "LayoutModel",
      "state": {}
     },
     "4506ccda1dc9448a9bec2bfc98c3e8e4": {
      "model_module": "@jupyter-widgets/controls",
      "model_module_version": "1.5.0",
      "model_name": "ProgressStyleModel",
      "state": {
       "description_width": "initial"
      }
     },
     "4630e77b29a24969bbf651a323f410f5": {
      "model_module": "@jupyter-widgets/controls",
      "model_module_version": "1.5.0",
      "model_name": "DescriptionStyleModel",
      "state": {
       "description_width": ""
      }
     },
     "4634aaa1efe14111a2d496b01090127f": {
      "model_module": "@jupyter-widgets/base",
      "model_module_version": "1.2.0",
      "model_name": "LayoutModel",
      "state": {}
     },
     "46b55895e31449d3a2134baa58ff75b8": {
      "model_module": "@jupyter-widgets/controls",
      "model_module_version": "1.5.0",
      "model_name": "HTMLModel",
      "state": {
       "layout": "IPY_MODEL_674ec0058ea04d928dd418ab448af28a",
       "style": "IPY_MODEL_3569b5c567944a4fbaf7d6b0908a0a34",
       "value": " 100/100 [00:07&lt;00:00, 13.37it/s]"
      }
     },
     "46bf896842204efbae8e8f2f9b1fdd81": {
      "model_module": "@jupyter-widgets/controls",
      "model_module_version": "1.5.0",
      "model_name": "HTMLModel",
      "state": {
       "layout": "IPY_MODEL_99402f82ac4f4ba097cb1d192998de30",
       "style": "IPY_MODEL_bf439bde284c40938c26bfcb17848225",
       "value": " 100/100 [00:01&lt;00:00, 78.23it/s]"
      }
     },
     "47b4d4b3c870459f95bf2869c7483f73": {
      "model_module": "@jupyter-widgets/controls",
      "model_module_version": "1.5.0",
      "model_name": "FloatProgressModel",
      "state": {
       "bar_style": "success",
       "description": "jazz: 100%",
       "layout": "IPY_MODEL_7ffc51cb073f4aeb9ce484f719187933",
       "style": "IPY_MODEL_3135d1ddff844813a8dc46be056b095f",
       "value": 100
      }
     },
     "47f0cd311d2242eab64056f9906392eb": {
      "model_module": "@jupyter-widgets/controls",
      "model_module_version": "1.5.0",
      "model_name": "HTMLModel",
      "state": {
       "layout": "IPY_MODEL_6de55811d7a446ee833d4c1c22ea5841",
       "style": "IPY_MODEL_4ed6fbedab6d4f6aa34a2e097b672bbf",
       "value": " 100/100 [00:32&lt;00:00,  3.08it/s]"
      }
     },
     "48d7a6a49a924ac38878519ac7097d32": {
      "model_module": "@jupyter-widgets/controls",
      "model_module_version": "1.5.0",
      "model_name": "FloatProgressModel",
      "state": {
       "bar_style": "success",
       "description": "metal: 100%",
       "layout": "IPY_MODEL_79fc3c72621b40e9a70f4e6608cf226a",
       "style": "IPY_MODEL_567e96ed4a5345a68fff474657dec49c",
       "value": 100
      }
     },
     "496cf1c903144bec8b4ab97f98dfaa42": {
      "model_module": "@jupyter-widgets/controls",
      "model_module_version": "1.5.0",
      "model_name": "HBoxModel",
      "state": {
       "children": [
        "IPY_MODEL_954643e2ead4451e95f767be9bc0c47e",
        "IPY_MODEL_ce4e82531d544b6888e2d6132d94d422"
       ],
       "layout": "IPY_MODEL_1c5b8e471ce741a59df683c5b54272ae"
      }
     },
     "4b4ed2d54725409e80f180e2a95f7d51": {
      "model_module": "@jupyter-widgets/controls",
      "model_module_version": "1.5.0",
      "model_name": "ProgressStyleModel",
      "state": {
       "description_width": "initial"
      }
     },
     "4b6525d0af184597a906b1873a567864": {
      "model_module": "@jupyter-widgets/base",
      "model_module_version": "1.2.0",
      "model_name": "LayoutModel",
      "state": {}
     },
     "4d8116bc2d464beebc0f43c79d7edc0d": {
      "model_module": "@jupyter-widgets/base",
      "model_module_version": "1.2.0",
      "model_name": "LayoutModel",
      "state": {}
     },
     "4d8b039e434147fd8afeb249eed789a2": {
      "model_module": "@jupyter-widgets/controls",
      "model_module_version": "1.5.0",
      "model_name": "HBoxModel",
      "state": {
       "children": [
        "IPY_MODEL_b51ace907b2a492f9036b8d0e50cf288",
        "IPY_MODEL_d2054ab699fc4805be6fa6b68b1206b6"
       ],
       "layout": "IPY_MODEL_a96dcc575a1f40b898dd3e575511d507"
      }
     },
     "4db6f92d112a45b69420225b5d544419": {
      "model_module": "@jupyter-widgets/base",
      "model_module_version": "1.2.0",
      "model_name": "LayoutModel",
      "state": {}
     },
     "4dbbe31e51ab4d038a6e41fd8ab8facd": {
      "model_module": "@jupyter-widgets/controls",
      "model_module_version": "1.5.0",
      "model_name": "HBoxModel",
      "state": {
       "children": [
        "IPY_MODEL_47b4d4b3c870459f95bf2869c7483f73",
        "IPY_MODEL_0716bbc692de4867a2e823eade0afa4a"
       ],
       "layout": "IPY_MODEL_1aa176c8428e437386ed99ade51d05c2"
      }
     },
     "4e5a5ed50f3a4aea9141a9fe64061693": {
      "model_module": "@jupyter-widgets/base",
      "model_module_version": "1.2.0",
      "model_name": "LayoutModel",
      "state": {}
     },
     "4ed6fbedab6d4f6aa34a2e097b672bbf": {
      "model_module": "@jupyter-widgets/controls",
      "model_module_version": "1.5.0",
      "model_name": "DescriptionStyleModel",
      "state": {
       "description_width": ""
      }
     },
     "4fec5346ad0f43b883a70a7b08022095": {
      "model_module": "@jupyter-widgets/controls",
      "model_module_version": "1.5.0",
      "model_name": "HBoxModel",
      "state": {
       "children": [
        "IPY_MODEL_aefd1b8e48fb444eb7ef046428f6971a",
        "IPY_MODEL_47f0cd311d2242eab64056f9906392eb"
       ],
       "layout": "IPY_MODEL_01695f9d71c2419a9004da4958e8ca03"
      }
     },
     "50fc561375894966ba6032047a6c77b7": {
      "model_module": "@jupyter-widgets/controls",
      "model_module_version": "1.5.0",
      "model_name": "HTMLModel",
      "state": {
       "layout": "IPY_MODEL_9625ebb608d944ad8ec28b73d14933d8",
       "style": "IPY_MODEL_8abc3c69bbaf46a2a171511f5740402e",
       "value": " 100/100 [01:08&lt;00:00,  1.46it/s]"
      }
     },
     "52034d4d4fd7461ea4b7631695635c5e": {
      "model_module": "@jupyter-widgets/controls",
      "model_module_version": "1.5.0",
      "model_name": "DescriptionStyleModel",
      "state": {
       "description_width": ""
      }
     },
     "52480bd95e3947acbf3c832ce9d31260": {
      "model_module": "@jupyter-widgets/controls",
      "model_module_version": "1.5.0",
      "model_name": "HTMLModel",
      "state": {
       "layout": "IPY_MODEL_c2f98c25805247f4913cbcecff9c6468",
       "style": "IPY_MODEL_ec6472b4bd534d73bb82dcd43c95369b",
       "value": " 100/100 [00:35&lt;00:00,  2.81it/s]"
      }
     },
     "52eac7fae5614e5eb80c9d6059b3fad1": {
      "model_module": "@jupyter-widgets/controls",
      "model_module_version": "1.5.0",
      "model_name": "FloatProgressModel",
      "state": {
       "bar_style": "success",
       "description": "classical: 100%",
       "layout": "IPY_MODEL_4db6f92d112a45b69420225b5d544419",
       "style": "IPY_MODEL_b4061634431a40039f3e809847090ea8",
       "value": 100
      }
     },
     "53fa5d1508bf49c780ad743c2c05a81c": {
      "model_module": "@jupyter-widgets/controls",
      "model_module_version": "1.5.0",
      "model_name": "ProgressStyleModel",
      "state": {
       "description_width": "initial"
      }
     },
     "54201b31f04442c2853695ed433c10e0": {
      "model_module": "@jupyter-widgets/base",
      "model_module_version": "1.2.0",
      "model_name": "LayoutModel",
      "state": {}
     },
     "5439eee754504fe9b5a490bedaf511e1": {
      "model_module": "@jupyter-widgets/base",
      "model_module_version": "1.2.0",
      "model_name": "LayoutModel",
      "state": {}
     },
     "54c356423867498ca80e14ee42a16695": {
      "model_module": "@jupyter-widgets/controls",
      "model_module_version": "1.5.0",
      "model_name": "HTMLModel",
      "state": {
       "layout": "IPY_MODEL_86624f66c127487298e1fb2440b30221",
       "style": "IPY_MODEL_09cd194b62224db0be8cb5a844dfea3b",
       "value": " 100/100 [00:06&lt;00:00, 14.95it/s]"
      }
     },
     "55220bee3cce4d098a9e017432bd56ca": {
      "model_module": "@jupyter-widgets/controls",
      "model_module_version": "1.5.0",
      "model_name": "DescriptionStyleModel",
      "state": {
       "description_width": ""
      }
     },
     "565e76d4fc954660bb36f8df66f29aaf": {
      "model_module": "@jupyter-widgets/base",
      "model_module_version": "1.2.0",
      "model_name": "LayoutModel",
      "state": {}
     },
     "567e96ed4a5345a68fff474657dec49c": {
      "model_module": "@jupyter-widgets/controls",
      "model_module_version": "1.5.0",
      "model_name": "ProgressStyleModel",
      "state": {
       "description_width": "initial"
      }
     },
     "56c34a943eae455495dd5219e4a8e855": {
      "model_module": "@jupyter-widgets/base",
      "model_module_version": "1.2.0",
      "model_name": "LayoutModel",
      "state": {}
     },
     "56e000922d4c447abbee625ac07116c3": {
      "model_module": "@jupyter-widgets/base",
      "model_module_version": "1.2.0",
      "model_name": "LayoutModel",
      "state": {}
     },
     "590f2594e9a84fa3a62e7410c5eed385": {
      "model_module": "@jupyter-widgets/controls",
      "model_module_version": "1.5.0",
      "model_name": "HBoxModel",
      "state": {
       "children": [
        "IPY_MODEL_03b8f5bc5a3449beab0e2c4421739fb3",
        "IPY_MODEL_3bdbc56b9ba043a7858aa8e8f1b83b25"
       ],
       "layout": "IPY_MODEL_076ff86a5b774f28b1cc8ad0508bf8b9"
      }
     },
     "59437f67607744d3b0ba0a80deeb543b": {
      "model_module": "@jupyter-widgets/controls",
      "model_module_version": "1.5.0",
      "model_name": "FloatProgressModel",
      "state": {
       "bar_style": "success",
       "description": "disco: 100%",
       "layout": "IPY_MODEL_3f920878100d46d99a20c461892a213e",
       "style": "IPY_MODEL_1d35f06081644de0ba2513b3d951575e",
       "value": 100
      }
     },
     "5af473aedda943998168714db7300d45": {
      "model_module": "@jupyter-widgets/base",
      "model_module_version": "1.2.0",
      "model_name": "LayoutModel",
      "state": {}
     },
     "5af4ce1afaa64dabb16722ca224de3ae": {
      "model_module": "@jupyter-widgets/controls",
      "model_module_version": "1.5.0",
      "model_name": "ProgressStyleModel",
      "state": {
       "description_width": "initial"
      }
     },
     "5bf57589fdec4c67b8f16f3a0542417e": {
      "model_module": "@jupyter-widgets/base",
      "model_module_version": "1.2.0",
      "model_name": "LayoutModel",
      "state": {}
     },
     "5c71d6b54a884e1a9b381ec38acf6efa": {
      "model_module": "@jupyter-widgets/base",
      "model_module_version": "1.2.0",
      "model_name": "LayoutModel",
      "state": {}
     },
     "5ec3449e1ce0405fbd75291d621affd9": {
      "model_module": "@jupyter-widgets/controls",
      "model_module_version": "1.5.0",
      "model_name": "ProgressStyleModel",
      "state": {
       "description_width": "initial"
      }
     },
     "5ec6d8b7acf2460fb62d76d65f1419fa": {
      "model_module": "@jupyter-widgets/controls",
      "model_module_version": "1.5.0",
      "model_name": "HTMLModel",
      "state": {
       "layout": "IPY_MODEL_56e000922d4c447abbee625ac07116c3",
       "style": "IPY_MODEL_af481f3b659d4bfa9afe85bcbe7d9c3e",
       "value": " 100/100 [00:02&lt;00:00, 45.97it/s]"
      }
     },
     "60e3873640534a2ba8b800deb1e8a775": {
      "model_module": "@jupyter-widgets/controls",
      "model_module_version": "1.5.0",
      "model_name": "FloatProgressModel",
      "state": {
       "bar_style": "success",
       "description": "rock: 100%",
       "layout": "IPY_MODEL_f17c69b997184b9580f893da7baf0b45",
       "style": "IPY_MODEL_4b4ed2d54725409e80f180e2a95f7d51",
       "value": 100
      }
     },
     "629eb137235a47c6aaa8a5c449de5873": {
      "model_module": "@jupyter-widgets/controls",
      "model_module_version": "1.5.0",
      "model_name": "ProgressStyleModel",
      "state": {
       "description_width": "initial"
      }
     },
     "633a5dd9fe1b41adbf2b3cb330583b10": {
      "model_module": "@jupyter-widgets/controls",
      "model_module_version": "1.5.0",
      "model_name": "ProgressStyleModel",
      "state": {
       "description_width": "initial"
      }
     },
     "640e77f662f4404da626af7a66e8c0e2": {
      "model_module": "@jupyter-widgets/controls",
      "model_module_version": "1.5.0",
      "model_name": "DescriptionStyleModel",
      "state": {
       "description_width": ""
      }
     },
     "6599f4f17c3c4254a1cd5fa83f0fae54": {
      "model_module": "@jupyter-widgets/controls",
      "model_module_version": "1.5.0",
      "model_name": "HBoxModel",
      "state": {
       "children": [
        "IPY_MODEL_2514921eae834192966a69b9bdcc9761",
        "IPY_MODEL_fb90c8ab55d74a29bba86cb06a98eafc"
       ],
       "layout": "IPY_MODEL_56c34a943eae455495dd5219e4a8e855"
      }
     },
     "674ec0058ea04d928dd418ab448af28a": {
      "model_module": "@jupyter-widgets/base",
      "model_module_version": "1.2.0",
      "model_name": "LayoutModel",
      "state": {}
     },
     "69d205d7f57545b58d274006b17998a7": {
      "model_module": "@jupyter-widgets/base",
      "model_module_version": "1.2.0",
      "model_name": "LayoutModel",
      "state": {}
     },
     "6a2aab2ef4c54996879851461efd40e0": {
      "model_module": "@jupyter-widgets/controls",
      "model_module_version": "1.5.0",
      "model_name": "ProgressStyleModel",
      "state": {
       "description_width": "initial"
      }
     },
     "6abe50add3d44b29aed92822771a3313": {
      "model_module": "@jupyter-widgets/controls",
      "model_module_version": "1.5.0",
      "model_name": "HTMLModel",
      "state": {
       "layout": "IPY_MODEL_06ce091f5b6346e08bb0b6095e87f7f6",
       "style": "IPY_MODEL_55220bee3cce4d098a9e017432bd56ca",
       "value": " 100/100 [00:01&lt;00:00, 65.24it/s]"
      }
     },
     "6ac43dd221974820a7407f00b9b6401c": {
      "model_module": "@jupyter-widgets/controls",
      "model_module_version": "1.5.0",
      "model_name": "DescriptionStyleModel",
      "state": {
       "description_width": ""
      }
     },
     "6ba26f0e3cba4c4a885110f8ec091e27": {
      "model_module": "@jupyter-widgets/controls",
      "model_module_version": "1.5.0",
      "model_name": "HTMLModel",
      "state": {
       "layout": "IPY_MODEL_c3c582ce0cc44c51a97b98f1c5eda8c8",
       "style": "IPY_MODEL_9067877a45d04cca9c5fb2ddef3e33de",
       "value": " 100/100 [00:01&lt;00:00, 59.68it/s]"
      }
     },
     "6c2f7cc945864a209fd3685e3714e43e": {
      "model_module": "@jupyter-widgets/controls",
      "model_module_version": "1.5.0",
      "model_name": "FloatProgressModel",
      "state": {
       "bar_style": "success",
       "description": "country: 100%",
       "layout": "IPY_MODEL_4b6525d0af184597a906b1873a567864",
       "style": "IPY_MODEL_8d5895bf1c854797a9b741ad8c4708f9",
       "value": 100
      }
     },
     "6dab6f757907405a8e241eb9c657c9a0": {
      "model_module": "@jupyter-widgets/base",
      "model_module_version": "1.2.0",
      "model_name": "LayoutModel",
      "state": {}
     },
     "6de55811d7a446ee833d4c1c22ea5841": {
      "model_module": "@jupyter-widgets/base",
      "model_module_version": "1.2.0",
      "model_name": "LayoutModel",
      "state": {}
     },
     "6f73630501b248eca3bb28236098b4a6": {
      "model_module": "@jupyter-widgets/base",
      "model_module_version": "1.2.0",
      "model_name": "LayoutModel",
      "state": {}
     },
     "6f86949a55cf4d1d812d5a0fdeb00f2a": {
      "model_module": "@jupyter-widgets/controls",
      "model_module_version": "1.5.0",
      "model_name": "FloatProgressModel",
      "state": {
       "bar_style": "success",
       "description": "reggae: 100%",
       "layout": "IPY_MODEL_2af3371b7f8d40a2ad3cd26bfad40c75",
       "style": "IPY_MODEL_d668ef7e26b0481c9fe7bb591ea1b108",
       "value": 100
      }
     },
     "72342dca9cb44033a15e0eadec7150c0": {
      "model_module": "@jupyter-widgets/base",
      "model_module_version": "1.2.0",
      "model_name": "LayoutModel",
      "state": {}
     },
     "7434b7ce136a4c56991f86266c1595dc": {
      "model_module": "@jupyter-widgets/controls",
      "model_module_version": "1.5.0",
      "model_name": "HTMLModel",
      "state": {
       "layout": "IPY_MODEL_0c4810b28a184bea8915606576b60657",
       "style": "IPY_MODEL_881c044be66f4f0d9d8ebbb5ab33c246",
       "value": " 100/100 [00:06&lt;00:00, 16.57it/s]"
      }
     },
     "7435fab59d5c47e49ab797603732abf2": {
      "model_module": "@jupyter-widgets/controls",
      "model_module_version": "1.5.0",
      "model_name": "ProgressStyleModel",
      "state": {
       "description_width": "initial"
      }
     },
     "74c175880dce4555aa2e5f17cefa1389": {
      "model_module": "@jupyter-widgets/base",
      "model_module_version": "1.2.0",
      "model_name": "LayoutModel",
      "state": {}
     },
     "77810f5627334418875ca13ad98f2183": {
      "model_module": "@jupyter-widgets/controls",
      "model_module_version": "1.5.0",
      "model_name": "HBoxModel",
      "state": {
       "children": [
        "IPY_MODEL_da1fbe89c0ac499a90b5eaadb8cc2a8a",
        "IPY_MODEL_6ba26f0e3cba4c4a885110f8ec091e27"
       ],
       "layout": "IPY_MODEL_0b9e1602271940bb91281b8912a60b6e"
      }
     },
     "7840cb6f3a5a4443b333a1e3d31cd5da": {
      "model_module": "@jupyter-widgets/base",
      "model_module_version": "1.2.0",
      "model_name": "LayoutModel",
      "state": {}
     },
     "78e74fff270c4a4dbcf7cbc9f3d22a51": {
      "model_module": "@jupyter-widgets/base",
      "model_module_version": "1.2.0",
      "model_name": "LayoutModel",
      "state": {}
     },
     "78e7b0e41756415da9d089b6e4524098": {
      "model_module": "@jupyter-widgets/controls",
      "model_module_version": "1.5.0",
      "model_name": "HTMLModel",
      "state": {
       "layout": "IPY_MODEL_7cdb416a5bb74e7a8f3b36d06d723d11",
       "style": "IPY_MODEL_9d16bb8256184f16b7f508172149a448",
       "value": " 100/100 [00:04&lt;00:00, 20.91it/s]"
      }
     },
     "78eb640926eb44b1a60be166d285b313": {
      "model_module": "@jupyter-widgets/controls",
      "model_module_version": "1.5.0",
      "model_name": "FloatProgressModel",
      "state": {
       "bar_style": "success",
       "description": "rock: 100%",
       "layout": "IPY_MODEL_cfe20c4990334727a65b7023b6474ef6",
       "style": "IPY_MODEL_988efb37579b474ebc1740937050902c",
       "value": 100
      }
     },
     "792acabf9b54459181d36508e9a8b8f4": {
      "model_module": "@jupyter-widgets/base",
      "model_module_version": "1.2.0",
      "model_name": "LayoutModel",
      "state": {}
     },
     "79fc3c72621b40e9a70f4e6608cf226a": {
      "model_module": "@jupyter-widgets/base",
      "model_module_version": "1.2.0",
      "model_name": "LayoutModel",
      "state": {}
     },
     "7a5d331dae45425c9b406f960f440179": {
      "model_module": "@jupyter-widgets/base",
      "model_module_version": "1.2.0",
      "model_name": "LayoutModel",
      "state": {}
     },
     "7cdb416a5bb74e7a8f3b36d06d723d11": {
      "model_module": "@jupyter-widgets/base",
      "model_module_version": "1.2.0",
      "model_name": "LayoutModel",
      "state": {}
     },
     "7eccc2c58fff4eb8be65e5c91904734e": {
      "model_module": "@jupyter-widgets/controls",
      "model_module_version": "1.5.0",
      "model_name": "DescriptionStyleModel",
      "state": {
       "description_width": ""
      }
     },
     "7fc779c287104acca9b3a33090338cad": {
      "model_module": "@jupyter-widgets/controls",
      "model_module_version": "1.5.0",
      "model_name": "HTMLModel",
      "state": {
       "layout": "IPY_MODEL_18273e15090d4e5c9ac5af3ff5ae1a6d",
       "style": "IPY_MODEL_fe383eb3647c477982039ebf5553ccdc",
       "value": " 100/100 [00:02&lt;00:00, 34.33it/s]"
      }
     },
     "7ffc51cb073f4aeb9ce484f719187933": {
      "model_module": "@jupyter-widgets/base",
      "model_module_version": "1.2.0",
      "model_name": "LayoutModel",
      "state": {}
     },
     "8069562c92f64dc2b5af9a91e2dd7e26": {
      "model_module": "@jupyter-widgets/base",
      "model_module_version": "1.2.0",
      "model_name": "LayoutModel",
      "state": {}
     },
     "83c39a2b3f6e4c1fbf5abb66a3ea62bb": {
      "model_module": "@jupyter-widgets/base",
      "model_module_version": "1.2.0",
      "model_name": "LayoutModel",
      "state": {}
     },
     "841533ec453d42bba14cbd886d58d5cf": {
      "model_module": "@jupyter-widgets/controls",
      "model_module_version": "1.5.0",
      "model_name": "DescriptionStyleModel",
      "state": {
       "description_width": ""
      }
     },
     "8598e816e9a64c9f9f370624c0e91196": {
      "model_module": "@jupyter-widgets/controls",
      "model_module_version": "1.5.0",
      "model_name": "ProgressStyleModel",
      "state": {
       "description_width": "initial"
      }
     },
     "86624f66c127487298e1fb2440b30221": {
      "model_module": "@jupyter-widgets/base",
      "model_module_version": "1.2.0",
      "model_name": "LayoutModel",
      "state": {}
     },
     "8684b277f4af43068db83f7ef4219f6b": {
      "model_module": "@jupyter-widgets/controls",
      "model_module_version": "1.5.0",
      "model_name": "HTMLModel",
      "state": {
       "layout": "IPY_MODEL_c075c9ca89d149e9aaffd240f9a2e786",
       "style": "IPY_MODEL_333fd5b43d71407faaaef0ccf5b85e05",
       "value": " 100/100 [00:00&lt;00:00, 101.91it/s]"
      }
     },
     "878268558db74fb2b67e42b0b8bda5e0": {
      "model_module": "@jupyter-widgets/base",
      "model_module_version": "1.2.0",
      "model_name": "LayoutModel",
      "state": {}
     },
     "87f407408842455d998f490eeb83963e": {
      "model_module": "@jupyter-widgets/controls",
      "model_module_version": "1.5.0",
      "model_name": "ProgressStyleModel",
      "state": {
       "description_width": "initial"
      }
     },
     "881c044be66f4f0d9d8ebbb5ab33c246": {
      "model_module": "@jupyter-widgets/controls",
      "model_module_version": "1.5.0",
      "model_name": "DescriptionStyleModel",
      "state": {
       "description_width": ""
      }
     },
     "888752aaa31e45fcb0ddc0baccf1f3c9": {
      "model_module": "@jupyter-widgets/controls",
      "model_module_version": "1.5.0",
      "model_name": "ProgressStyleModel",
      "state": {
       "description_width": "initial"
      }
     },
     "888fa038e0d34eb0b13db0120f8bfa4a": {
      "model_module": "@jupyter-widgets/controls",
      "model_module_version": "1.5.0",
      "model_name": "HBoxModel",
      "state": {
       "children": [
        "IPY_MODEL_cbef3de1efdc4b20a5e558356c46ad71",
        "IPY_MODEL_ce4ad50b81d8454d8d0cfd8d49d9d974"
       ],
       "layout": "IPY_MODEL_8069562c92f64dc2b5af9a91e2dd7e26"
      }
     },
     "891fc540953d462cb711e456cd49f5d7": {
      "model_module": "@jupyter-widgets/controls",
      "model_module_version": "1.5.0",
      "model_name": "DescriptionStyleModel",
      "state": {
       "description_width": ""
      }
     },
     "8abc3c69bbaf46a2a171511f5740402e": {
      "model_module": "@jupyter-widgets/controls",
      "model_module_version": "1.5.0",
      "model_name": "DescriptionStyleModel",
      "state": {
       "description_width": ""
      }
     },
     "8b1f88bfdacd4698a1c70eeda63402fa": {
      "model_module": "@jupyter-widgets/controls",
      "model_module_version": "1.5.0",
      "model_name": "FloatProgressModel",
      "state": {
       "bar_style": "success",
       "description": "pop: 100%",
       "layout": "IPY_MODEL_28f3489b42d04adb8c4ae9e3b875a1d2",
       "style": "IPY_MODEL_8598e816e9a64c9f9f370624c0e91196",
       "value": 100
      }
     },
     "8bd75ed50af049ecb367ed6fd3786d24": {
      "model_module": "@jupyter-widgets/controls",
      "model_module_version": "1.5.0",
      "model_name": "DescriptionStyleModel",
      "state": {
       "description_width": ""
      }
     },
     "8c1cafb4962945969fa254532a265d72": {
      "model_module": "@jupyter-widgets/controls",
      "model_module_version": "1.5.0",
      "model_name": "HBoxModel",
      "state": {
       "children": [
        "IPY_MODEL_cf0d485fb88e45489df53b1f53bf35ab",
        "IPY_MODEL_fcba5899be764925b770c942a4574469"
       ],
       "layout": "IPY_MODEL_a752196d6cf841dc9cbe47c5f9cc1825"
      }
     },
     "8d5895bf1c854797a9b741ad8c4708f9": {
      "model_module": "@jupyter-widgets/controls",
      "model_module_version": "1.5.0",
      "model_name": "ProgressStyleModel",
      "state": {
       "description_width": "initial"
      }
     },
     "8dd385b4b3f54836a9ffd8798b63fd9c": {
      "model_module": "@jupyter-widgets/controls",
      "model_module_version": "1.5.0",
      "model_name": "HTMLModel",
      "state": {
       "layout": "IPY_MODEL_6f73630501b248eca3bb28236098b4a6",
       "style": "IPY_MODEL_93e068c2cf974d5893911b82e49dc2ac",
       "value": " 100/100 [00:01&lt;00:00, 78.61it/s]"
      }
     },
     "8fffad144fe44c59ada38747307d0314": {
      "model_module": "@jupyter-widgets/controls",
      "model_module_version": "1.5.0",
      "model_name": "HBoxModel",
      "state": {
       "children": [
        "IPY_MODEL_f2a2bfbaa32741aeab1ec8a485368d11",
        "IPY_MODEL_9da4e53b05414ba1b2d9c1fa3b030f34"
       ],
       "layout": "IPY_MODEL_4634aaa1efe14111a2d496b01090127f"
      }
     },
     "9067877a45d04cca9c5fb2ddef3e33de": {
      "model_module": "@jupyter-widgets/controls",
      "model_module_version": "1.5.0",
      "model_name": "DescriptionStyleModel",
      "state": {
       "description_width": ""
      }
     },
     "921f3930a7dd404b825ce1a8e778e4b2": {
      "model_module": "@jupyter-widgets/base",
      "model_module_version": "1.2.0",
      "model_name": "LayoutModel",
      "state": {}
     },
     "9266c7800b974ad5a4d93fbe896bd215": {
      "model_module": "@jupyter-widgets/controls",
      "model_module_version": "1.5.0",
      "model_name": "ProgressStyleModel",
      "state": {
       "description_width": "initial"
      }
     },
     "93afae9b9ad34bbe8356c1d616dad2fb": {
      "model_module": "@jupyter-widgets/controls",
      "model_module_version": "1.5.0",
      "model_name": "ProgressStyleModel",
      "state": {
       "description_width": "initial"
      }
     },
     "93d50126ca7b4a989dc9869d31dc1196": {
      "model_module": "@jupyter-widgets/controls",
      "model_module_version": "1.5.0",
      "model_name": "DescriptionStyleModel",
      "state": {
       "description_width": ""
      }
     },
     "93e068c2cf974d5893911b82e49dc2ac": {
      "model_module": "@jupyter-widgets/controls",
      "model_module_version": "1.5.0",
      "model_name": "DescriptionStyleModel",
      "state": {
       "description_width": ""
      }
     },
     "94332a11233a40afa7454d85535d4e77": {
      "model_module": "@jupyter-widgets/controls",
      "model_module_version": "1.5.0",
      "model_name": "HBoxModel",
      "state": {
       "children": [
        "IPY_MODEL_8b1f88bfdacd4698a1c70eeda63402fa",
        "IPY_MODEL_d91206a9e4694242b99db5015acf8d97"
       ],
       "layout": "IPY_MODEL_3e25e0542e7c4cdaa32035ffcf9afaea"
      }
     },
     "95415ecbf3334180aa8c33cef0503b34": {
      "model_module": "@jupyter-widgets/controls",
      "model_module_version": "1.5.0",
      "model_name": "FloatProgressModel",
      "state": {
       "bar_style": "success",
       "description": "hiphop: 100%",
       "layout": "IPY_MODEL_11a9bbc09f3948139faae973535e8346",
       "style": "IPY_MODEL_5ec3449e1ce0405fbd75291d621affd9",
       "value": 100
      }
     },
     "954643e2ead4451e95f767be9bc0c47e": {
      "model_module": "@jupyter-widgets/controls",
      "model_module_version": "1.5.0",
      "model_name": "FloatProgressModel",
      "state": {
       "bar_style": "success",
       "description": "jazz: 100%",
       "layout": "IPY_MODEL_5bf57589fdec4c67b8f16f3a0542417e",
       "style": "IPY_MODEL_5af4ce1afaa64dabb16722ca224de3ae",
       "value": 100
      }
     },
     "9625ebb608d944ad8ec28b73d14933d8": {
      "model_module": "@jupyter-widgets/base",
      "model_module_version": "1.2.0",
      "model_name": "LayoutModel",
      "state": {}
     },
     "983bb07ddeef4026806d89cd574d345f": {
      "model_module": "@jupyter-widgets/base",
      "model_module_version": "1.2.0",
      "model_name": "LayoutModel",
      "state": {}
     },
     "988efb37579b474ebc1740937050902c": {
      "model_module": "@jupyter-widgets/controls",
      "model_module_version": "1.5.0",
      "model_name": "ProgressStyleModel",
      "state": {
       "description_width": "initial"
      }
     },
     "989ff81fd6804d73aa1b0d16aec2787e": {
      "model_module": "@jupyter-widgets/base",
      "model_module_version": "1.2.0",
      "model_name": "LayoutModel",
      "state": {}
     },
     "991349731398416f9faf69fa9b1d38d4": {
      "model_module": "@jupyter-widgets/base",
      "model_module_version": "1.2.0",
      "model_name": "LayoutModel",
      "state": {}
     },
     "99402f82ac4f4ba097cb1d192998de30": {
      "model_module": "@jupyter-widgets/base",
      "model_module_version": "1.2.0",
      "model_name": "LayoutModel",
      "state": {}
     },
     "9ab69f0f860f474cb34f79a19ae3042a": {
      "model_module": "@jupyter-widgets/controls",
      "model_module_version": "1.5.0",
      "model_name": "ProgressStyleModel",
      "state": {
       "description_width": "initial"
      }
     },
     "9d16bb8256184f16b7f508172149a448": {
      "model_module": "@jupyter-widgets/controls",
      "model_module_version": "1.5.0",
      "model_name": "DescriptionStyleModel",
      "state": {
       "description_width": ""
      }
     },
     "9d2000aaec80405180be68b7d812fa5e": {
      "model_module": "@jupyter-widgets/base",
      "model_module_version": "1.2.0",
      "model_name": "LayoutModel",
      "state": {}
     },
     "9d4bb0ddf144445498216287c598f042": {
      "model_module": "@jupyter-widgets/base",
      "model_module_version": "1.2.0",
      "model_name": "LayoutModel",
      "state": {}
     },
     "9da4e53b05414ba1b2d9c1fa3b030f34": {
      "model_module": "@jupyter-widgets/controls",
      "model_module_version": "1.5.0",
      "model_name": "HTMLModel",
      "state": {
       "layout": "IPY_MODEL_5439eee754504fe9b5a490bedaf511e1",
       "style": "IPY_MODEL_52034d4d4fd7461ea4b7631695635c5e",
       "value": " 100/100 [01:31&lt;00:00,  1.09it/s]"
      }
     },
     "9da50d682a144228b897da3e4105e775": {
      "model_module": "@jupyter-widgets/controls",
      "model_module_version": "1.5.0",
      "model_name": "HTMLModel",
      "state": {
       "layout": "IPY_MODEL_a22b9db67c494a5f8480dbcc9a6d8097",
       "style": "IPY_MODEL_20f406dc575742caaa26ed407121ef6a",
       "value": " 100/100 [00:02&lt;00:00, 49.82it/s]"
      }
     },
     "9dbac2a02b284d33b807017183cc36c8": {
      "model_module": "@jupyter-widgets/base",
      "model_module_version": "1.2.0",
      "model_name": "LayoutModel",
      "state": {}
     },
     "9effa32d44ea4ed0ba292406c704cd84": {
      "model_module": "@jupyter-widgets/base",
      "model_module_version": "1.2.0",
      "model_name": "LayoutModel",
      "state": {}
     },
     "9ffa54e9cef14ef69711e5597b38875f": {
      "model_module": "@jupyter-widgets/controls",
      "model_module_version": "1.5.0",
      "model_name": "DescriptionStyleModel",
      "state": {
       "description_width": ""
      }
     },
     "a1198776b06c4871aac5d74ddc90ecf9": {
      "model_module": "@jupyter-widgets/controls",
      "model_module_version": "1.5.0",
      "model_name": "ProgressStyleModel",
      "state": {
       "description_width": "initial"
      }
     },
     "a22b9db67c494a5f8480dbcc9a6d8097": {
      "model_module": "@jupyter-widgets/base",
      "model_module_version": "1.2.0",
      "model_name": "LayoutModel",
      "state": {}
     },
     "a507881409ef491aae736fd6f0fe3fdd": {
      "model_module": "@jupyter-widgets/base",
      "model_module_version": "1.2.0",
      "model_name": "LayoutModel",
      "state": {}
     },
     "a578bbd200874632a9551cd7f9e77207": {
      "model_module": "@jupyter-widgets/controls",
      "model_module_version": "1.5.0",
      "model_name": "HBoxModel",
      "state": {
       "children": [
        "IPY_MODEL_d3939afe08f04a12a09b4fdba1bb5f4f",
        "IPY_MODEL_aa4f426ceb2846ebbc1bda302688692d"
       ],
       "layout": "IPY_MODEL_9effa32d44ea4ed0ba292406c704cd84"
      }
     },
     "a6dd115e5a464c7bb04af353a8d64400": {
      "model_module": "@jupyter-widgets/controls",
      "model_module_version": "1.5.0",
      "model_name": "HBoxModel",
      "state": {
       "children": [
        "IPY_MODEL_48d7a6a49a924ac38878519ac7097d32",
        "IPY_MODEL_52480bd95e3947acbf3c832ce9d31260"
       ],
       "layout": "IPY_MODEL_921f3930a7dd404b825ce1a8e778e4b2"
      }
     },
     "a752196d6cf841dc9cbe47c5f9cc1825": {
      "model_module": "@jupyter-widgets/base",
      "model_module_version": "1.2.0",
      "model_name": "LayoutModel",
      "state": {}
     },
     "a93acfaa2baa4fb482a2dfa65548e1b3": {
      "model_module": "@jupyter-widgets/controls",
      "model_module_version": "1.5.0",
      "model_name": "HBoxModel",
      "state": {
       "children": [
        "IPY_MODEL_b87c2540a401421fb0693325b9f0fb24",
        "IPY_MODEL_bc3b5d67dce640c6826f2394b1b9dcb7"
       ],
       "layout": "IPY_MODEL_78e74fff270c4a4dbcf7cbc9f3d22a51"
      }
     },
     "a96dcc575a1f40b898dd3e575511d507": {
      "model_module": "@jupyter-widgets/base",
      "model_module_version": "1.2.0",
      "model_name": "LayoutModel",
      "state": {}
     },
     "aa2403cac82e444a821a8e146e8ed196": {
      "model_module": "@jupyter-widgets/base",
      "model_module_version": "1.2.0",
      "model_name": "LayoutModel",
      "state": {}
     },
     "aa4f426ceb2846ebbc1bda302688692d": {
      "model_module": "@jupyter-widgets/controls",
      "model_module_version": "1.5.0",
      "model_name": "HTMLModel",
      "state": {
       "layout": "IPY_MODEL_135df494266a4042bf8ac6ef1929be2c",
       "style": "IPY_MODEL_cc48453a838b46a0bf3cd0a8625fac04",
       "value": " 100/100 [00:01&lt;00:00, 72.81it/s]"
      }
     },
     "aa7b1028fbe24c359310d129f5e075c5": {
      "model_module": "@jupyter-widgets/controls",
      "model_module_version": "1.5.0",
      "model_name": "ProgressStyleModel",
      "state": {
       "description_width": "initial"
      }
     },
     "aa8af9f4ea8d451d9b11a40aa5007500": {
      "model_module": "@jupyter-widgets/controls",
      "model_module_version": "1.5.0",
      "model_name": "DescriptionStyleModel",
      "state": {
       "description_width": ""
      }
     },
     "abc62a2bb94f4240b763f813838ec2ae": {
      "model_module": "@jupyter-widgets/controls",
      "model_module_version": "1.5.0",
      "model_name": "HBoxModel",
      "state": {
       "children": [
        "IPY_MODEL_0fdff72773144c449bbccb4acd679bc7",
        "IPY_MODEL_e865b8ab7f1648b88011058e86ffe114"
       ],
       "layout": "IPY_MODEL_e78d07bd2b3d4bf28eb01389e273ba87"
      }
     },
     "ac1eaeaf4f3e4ffdb91512642b780ad8": {
      "model_module": "@jupyter-widgets/base",
      "model_module_version": "1.2.0",
      "model_name": "LayoutModel",
      "state": {}
     },
     "ac48639d587546c49696373572477dfd": {
      "model_module": "@jupyter-widgets/base",
      "model_module_version": "1.2.0",
      "model_name": "LayoutModel",
      "state": {}
     },
     "ac551c52526c44d09091fc2e9f9d33bc": {
      "model_module": "@jupyter-widgets/controls",
      "model_module_version": "1.5.0",
      "model_name": "HBoxModel",
      "state": {
       "children": [
        "IPY_MODEL_78eb640926eb44b1a60be166d285b313",
        "IPY_MODEL_9da50d682a144228b897da3e4105e775"
       ],
       "layout": "IPY_MODEL_094eba55053a4a72901faacc10f5b8d5"
      }
     },
     "ad16db0d8257419ca83613889d6a0898": {
      "model_module": "@jupyter-widgets/controls",
      "model_module_version": "1.5.0",
      "model_name": "FloatProgressModel",
      "state": {
       "bar_style": "success",
       "description": "reggae: 100%",
       "layout": "IPY_MODEL_e0d46b25e14d49e1851b7dab5daa92f3",
       "style": "IPY_MODEL_93afae9b9ad34bbe8356c1d616dad2fb",
       "value": 100
      }
     },
     "aefd1b8e48fb444eb7ef046428f6971a": {
      "model_module": "@jupyter-widgets/controls",
      "model_module_version": "1.5.0",
      "model_name": "FloatProgressModel",
      "state": {
       "bar_style": "success",
       "description": "reggae: 100%",
       "layout": "IPY_MODEL_f53de134612a4c7c81ebddb1792ba958",
       "style": "IPY_MODEL_149372b408cc48679efcbd7b1296a5c9",
       "value": 100
      }
     },
     "af0b7c583f5748a7b703456939139675": {
      "model_module": "@jupyter-widgets/controls",
      "model_module_version": "1.5.0",
      "model_name": "ProgressStyleModel",
      "state": {
       "description_width": "initial"
      }
     },
     "af2e664ed8f4456a8477d50ae0b7038f": {
      "model_module": "@jupyter-widgets/base",
      "model_module_version": "1.2.0",
      "model_name": "LayoutModel",
      "state": {}
     },
     "af481f3b659d4bfa9afe85bcbe7d9c3e": {
      "model_module": "@jupyter-widgets/controls",
      "model_module_version": "1.5.0",
      "model_name": "DescriptionStyleModel",
      "state": {
       "description_width": ""
      }
     },
     "b0845daa20d44f2498fc69ea96f00071": {
      "model_module": "@jupyter-widgets/controls",
      "model_module_version": "1.5.0",
      "model_name": "HBoxModel",
      "state": {
       "children": [
        "IPY_MODEL_c937e21e5d80418fa9f047261e1989b8",
        "IPY_MODEL_b351511f0f7b4bc185909e8885a81736"
       ],
       "layout": "IPY_MODEL_d7a9b9bfcf6a4480878203a0a2a18205"
      }
     },
     "b132e553adb24d3484fcce2f2457f81c": {
      "model_module": "@jupyter-widgets/controls",
      "model_module_version": "1.5.0",
      "model_name": "FloatProgressModel",
      "state": {
       "bar_style": "success",
       "description": "jazz: 100%",
       "layout": "IPY_MODEL_989ff81fd6804d73aa1b0d16aec2787e",
       "style": "IPY_MODEL_9ab69f0f860f474cb34f79a19ae3042a",
       "value": 100
      }
     },
     "b1c4823d796d4964b3280d8b46f797b4": {
      "model_module": "@jupyter-widgets/controls",
      "model_module_version": "1.5.0",
      "model_name": "ProgressStyleModel",
      "state": {
       "description_width": "initial"
      }
     },
     "b32b9218651a483d9ac8e31e9296cb58": {
      "model_module": "@jupyter-widgets/base",
      "model_module_version": "1.2.0",
      "model_name": "LayoutModel",
      "state": {}
     },
     "b351511f0f7b4bc185909e8885a81736": {
      "model_module": "@jupyter-widgets/controls",
      "model_module_version": "1.5.0",
      "model_name": "HTMLModel",
      "state": {
       "layout": "IPY_MODEL_dad18985b60d4c95a35e199a248c09bf",
       "style": "IPY_MODEL_cafab2f0f22c4e998523af9abd4e8014",
       "value": " 100/100 [00:01&lt;00:00, 75.26it/s]"
      }
     },
     "b3690c54e9434ecdb99da8759e0ce446": {
      "model_module": "@jupyter-widgets/base",
      "model_module_version": "1.2.0",
      "model_name": "LayoutModel",
      "state": {}
     },
     "b4061634431a40039f3e809847090ea8": {
      "model_module": "@jupyter-widgets/controls",
      "model_module_version": "1.5.0",
      "model_name": "ProgressStyleModel",
      "state": {
       "description_width": "initial"
      }
     },
     "b51ace907b2a492f9036b8d0e50cf288": {
      "model_module": "@jupyter-widgets/controls",
      "model_module_version": "1.5.0",
      "model_name": "FloatProgressModel",
      "state": {
       "bar_style": "success",
       "description": "country: 100%",
       "layout": "IPY_MODEL_7840cb6f3a5a4443b333a1e3d31cd5da",
       "style": "IPY_MODEL_888752aaa31e45fcb0ddc0baccf1f3c9",
       "value": 100
      }
     },
     "b80557bd047641008f5514161ee649b7": {
      "model_module": "@jupyter-widgets/controls",
      "model_module_version": "1.5.0",
      "model_name": "DescriptionStyleModel",
      "state": {
       "description_width": ""
      }
     },
     "b87c2540a401421fb0693325b9f0fb24": {
      "model_module": "@jupyter-widgets/controls",
      "model_module_version": "1.5.0",
      "model_name": "FloatProgressModel",
      "state": {
       "bar_style": "success",
       "description": "blues: 100%",
       "layout": "IPY_MODEL_dd405b98c710406cb14f028b55d269fd",
       "style": "IPY_MODEL_53fa5d1508bf49c780ad743c2c05a81c",
       "value": 100
      }
     },
     "b9050f5951bb43339afb8f34b25491e0": {
      "model_module": "@jupyter-widgets/controls",
      "model_module_version": "1.5.0",
      "model_name": "ProgressStyleModel",
      "state": {
       "description_width": "initial"
      }
     },
     "b94dda8f5dec4df3865ce9462c53c9c0": {
      "model_module": "@jupyter-widgets/controls",
      "model_module_version": "1.5.0",
      "model_name": "ProgressStyleModel",
      "state": {
       "description_width": "initial"
      }
     },
     "ba86b288d8604f0a9a8e03400d467f06": {
      "model_module": "@jupyter-widgets/base",
      "model_module_version": "1.2.0",
      "model_name": "LayoutModel",
      "state": {}
     },
     "baa0448e346144e380544b0acb58bbe5": {
      "model_module": "@jupyter-widgets/base",
      "model_module_version": "1.2.0",
      "model_name": "LayoutModel",
      "state": {}
     },
     "bb1c097d392d428fa3a8a84b053925b8": {
      "model_module": "@jupyter-widgets/controls",
      "model_module_version": "1.5.0",
      "model_name": "HTMLModel",
      "state": {
       "layout": "IPY_MODEL_74c175880dce4555aa2e5f17cefa1389",
       "style": "IPY_MODEL_841533ec453d42bba14cbd886d58d5cf",
       "value": " 100/100 [00:00&lt;00:00, 154.08it/s]"
      }
     },
     "bbc6a528afab4e429e2df6ba4f2ca92c": {
      "model_module": "@jupyter-widgets/base",
      "model_module_version": "1.2.0",
      "model_name": "LayoutModel",
      "state": {}
     },
     "bc3b5d67dce640c6826f2394b1b9dcb7": {
      "model_module": "@jupyter-widgets/controls",
      "model_module_version": "1.5.0",
      "model_name": "HTMLModel",
      "state": {
       "layout": "IPY_MODEL_4230f6b98aee44deadc6f7e94bb6bd7d",
       "style": "IPY_MODEL_d3b9b64f56ee427087b674405a977db7",
       "value": " 100/100 [00:01&lt;00:00, 53.16it/s]"
      }
     },
     "bf1589ec543444dfae6680fcc1d01c8d": {
      "model_module": "@jupyter-widgets/controls",
      "model_module_version": "1.5.0",
      "model_name": "FloatProgressModel",
      "state": {
       "bar_style": "success",
       "description": "country: 100%",
       "layout": "IPY_MODEL_ac1eaeaf4f3e4ffdb91512642b780ad8",
       "style": "IPY_MODEL_7435fab59d5c47e49ab797603732abf2",
       "value": 100
      }
     },
     "bf439bde284c40938c26bfcb17848225": {
      "model_module": "@jupyter-widgets/controls",
      "model_module_version": "1.5.0",
      "model_name": "DescriptionStyleModel",
      "state": {
       "description_width": ""
      }
     },
     "c075c9ca89d149e9aaffd240f9a2e786": {
      "model_module": "@jupyter-widgets/base",
      "model_module_version": "1.2.0",
      "model_name": "LayoutModel",
      "state": {}
     },
     "c1a98af0c30d4ea2992e29dd9a373120": {
      "model_module": "@jupyter-widgets/controls",
      "model_module_version": "1.5.0",
      "model_name": "DescriptionStyleModel",
      "state": {
       "description_width": ""
      }
     },
     "c2f98c25805247f4913cbcecff9c6468": {
      "model_module": "@jupyter-widgets/base",
      "model_module_version": "1.2.0",
      "model_name": "LayoutModel",
      "state": {}
     },
     "c3c582ce0cc44c51a97b98f1c5eda8c8": {
      "model_module": "@jupyter-widgets/base",
      "model_module_version": "1.2.0",
      "model_name": "LayoutModel",
      "state": {}
     },
     "c53d7806a84545e6af6d39bca038f6ee": {
      "model_module": "@jupyter-widgets/controls",
      "model_module_version": "1.5.0",
      "model_name": "HTMLModel",
      "state": {
       "layout": "IPY_MODEL_4e5a5ed50f3a4aea9141a9fe64061693",
       "style": "IPY_MODEL_142832ee67fe4af7ab63a2ed39bc42f5",
       "value": " 100/100 [00:06&lt;00:00, 15.02it/s]"
      }
     },
     "c7d9206fccf24694b7c3c3cf549f6038": {
      "model_module": "@jupyter-widgets/controls",
      "model_module_version": "1.5.0",
      "model_name": "HBoxModel",
      "state": {
       "children": [
        "IPY_MODEL_1f9df1d1596c4acba697e0d3919213a6",
        "IPY_MODEL_8dd385b4b3f54836a9ffd8798b63fd9c"
       ],
       "layout": "IPY_MODEL_cfad2610debb447e83fe65ef1c7c476f"
      }
     },
     "c937e21e5d80418fa9f047261e1989b8": {
      "model_module": "@jupyter-widgets/controls",
      "model_module_version": "1.5.0",
      "model_name": "FloatProgressModel",
      "state": {
       "bar_style": "success",
       "description": "pop: 100%",
       "layout": "IPY_MODEL_44e697a1504b4d7fba7402995416f907",
       "style": "IPY_MODEL_33e74f6117354165945445a1aaca014c",
       "value": 100
      }
     },
     "cafab2f0f22c4e998523af9abd4e8014": {
      "model_module": "@jupyter-widgets/controls",
      "model_module_version": "1.5.0",
      "model_name": "DescriptionStyleModel",
      "state": {
       "description_width": ""
      }
     },
     "cb1d5bf0f142437a9dd98479a638f8a1": {
      "model_module": "@jupyter-widgets/base",
      "model_module_version": "1.2.0",
      "model_name": "LayoutModel",
      "state": {}
     },
     "cb270a79e03d4ffab854b44da2b27d91": {
      "model_module": "@jupyter-widgets/controls",
      "model_module_version": "1.5.0",
      "model_name": "DescriptionStyleModel",
      "state": {
       "description_width": ""
      }
     },
     "cba920dd38084848b9fd543b1dea1bb3": {
      "model_module": "@jupyter-widgets/controls",
      "model_module_version": "1.5.0",
      "model_name": "FloatProgressModel",
      "state": {
       "bar_style": "success",
       "description": "metal: 100%",
       "layout": "IPY_MODEL_293f743a25e8409faa8602fbcdff1442",
       "style": "IPY_MODEL_aa7b1028fbe24c359310d129f5e075c5",
       "value": 100
      }
     },
     "cbef3de1efdc4b20a5e558356c46ad71": {
      "model_module": "@jupyter-widgets/controls",
      "model_module_version": "1.5.0",
      "model_name": "FloatProgressModel",
      "state": {
       "bar_style": "success",
       "description": "reggae: 100%",
       "layout": "IPY_MODEL_ac48639d587546c49696373572477dfd",
       "style": "IPY_MODEL_6a2aab2ef4c54996879851461efd40e0",
       "value": 100
      }
     },
     "cc48453a838b46a0bf3cd0a8625fac04": {
      "model_module": "@jupyter-widgets/controls",
      "model_module_version": "1.5.0",
      "model_name": "DescriptionStyleModel",
      "state": {
       "description_width": ""
      }
     },
     "ccb19454c86a4defbec83040cbd47b45": {
      "model_module": "@jupyter-widgets/base",
      "model_module_version": "1.2.0",
      "model_name": "LayoutModel",
      "state": {}
     },
     "cdc1f5da5eb7451ebe365f9ab86d1cec": {
      "model_module": "@jupyter-widgets/controls",
      "model_module_version": "1.5.0",
      "model_name": "HBoxModel",
      "state": {
       "children": [
        "IPY_MODEL_59437f67607744d3b0ba0a80deeb543b",
        "IPY_MODEL_e7caee8a2ab14c8da6e6faee46dd8d0c"
       ],
       "layout": "IPY_MODEL_e4cb44b64a78415aa84960a93268d143"
      }
     },
     "cddfcf3724c44829a0224608e13e4f43": {
      "model_module": "@jupyter-widgets/base",
      "model_module_version": "1.2.0",
      "model_name": "LayoutModel",
      "state": {}
     },
     "ce4ad50b81d8454d8d0cfd8d49d9d974": {
      "model_module": "@jupyter-widgets/controls",
      "model_module_version": "1.5.0",
      "model_name": "HTMLModel",
      "state": {
       "layout": "IPY_MODEL_00aead1376424545bb3e5dfa6cd4127d",
       "style": "IPY_MODEL_f866c304e01a4cac8ad6a11dc94deba1",
       "value": " 100/100 [00:00&lt;00:00, 139.41it/s]"
      }
     },
     "ce4e82531d544b6888e2d6132d94d422": {
      "model_module": "@jupyter-widgets/controls",
      "model_module_version": "1.5.0",
      "model_name": "HTMLModel",
      "state": {
       "layout": "IPY_MODEL_cb1d5bf0f142437a9dd98479a638f8a1",
       "style": "IPY_MODEL_0d20ce104a914254a816476159e63de9",
       "value": " 100/100 [01:07&lt;00:00,  1.49it/s]"
      }
     },
     "cf0d485fb88e45489df53b1f53bf35ab": {
      "model_module": "@jupyter-widgets/controls",
      "model_module_version": "1.5.0",
      "model_name": "FloatProgressModel",
      "state": {
       "bar_style": "success",
       "description": "hiphop: 100%",
       "layout": "IPY_MODEL_bbc6a528afab4e429e2df6ba4f2ca92c",
       "style": "IPY_MODEL_9266c7800b974ad5a4d93fbe896bd215",
       "value": 100
      }
     },
     "cf2a22f3efbe4ca0a3c0c04b0746227a": {
      "model_module": "@jupyter-widgets/controls",
      "model_module_version": "1.5.0",
      "model_name": "HBoxModel",
      "state": {
       "children": [
        "IPY_MODEL_221ece466ff841048d6c246e57e17e35",
        "IPY_MODEL_1652d61f4aae4bb0befdf4806cb259e0"
       ],
       "layout": "IPY_MODEL_e7ae0af0444b44a2b7b7d4048bae7a11"
      }
     },
     "cfad2610debb447e83fe65ef1c7c476f": {
      "model_module": "@jupyter-widgets/base",
      "model_module_version": "1.2.0",
      "model_name": "LayoutModel",
      "state": {}
     },
     "cfe20c4990334727a65b7023b6474ef6": {
      "model_module": "@jupyter-widgets/base",
      "model_module_version": "1.2.0",
      "model_name": "LayoutModel",
      "state": {}
     },
     "d03255d39ce544298227ac48849f584c": {
      "model_module": "@jupyter-widgets/controls",
      "model_module_version": "1.5.0",
      "model_name": "FloatProgressModel",
      "state": {
       "bar_style": "success",
       "description": "rock: 100%",
       "layout": "IPY_MODEL_09542988f64b48cdb94f6ad922dae023",
       "style": "IPY_MODEL_af0b7c583f5748a7b703456939139675",
       "value": 100
      }
     },
     "d0c0e7b350384399a2cd84961715815e": {
      "model_module": "@jupyter-widgets/controls",
      "model_module_version": "1.5.0",
      "model_name": "HBoxModel",
      "state": {
       "children": [
        "IPY_MODEL_1b5ff08d487c40d79f33c938aa64e125",
        "IPY_MODEL_1a1e9d435906430fb0da8be21cf1fece"
       ],
       "layout": "IPY_MODEL_983bb07ddeef4026806d89cd574d345f"
      }
     },
     "d1665ee8e9484cc1b01ee5ab08c291b8": {
      "model_module": "@jupyter-widgets/controls",
      "model_module_version": "1.5.0",
      "model_name": "HBoxModel",
      "state": {
       "children": [
        "IPY_MODEL_95415ecbf3334180aa8c33cef0503b34",
        "IPY_MODEL_18607a2de6bf43c5a584faacd0bd001f"
       ],
       "layout": "IPY_MODEL_7a5d331dae45425c9b406f960f440179"
      }
     },
     "d1afcaba533c4d0ebdd8e9655c679554": {
      "model_module": "@jupyter-widgets/controls",
      "model_module_version": "1.5.0",
      "model_name": "HTMLModel",
      "state": {
       "layout": "IPY_MODEL_262a6d117fc24af68f954862e5e8b5bf",
       "style": "IPY_MODEL_93d50126ca7b4a989dc9869d31dc1196",
       "value": " 100/100 [00:05&lt;00:00, 18.62it/s]"
      }
     },
     "d2054ab699fc4805be6fa6b68b1206b6": {
      "model_module": "@jupyter-widgets/controls",
      "model_module_version": "1.5.0",
      "model_name": "HTMLModel",
      "state": {
       "layout": "IPY_MODEL_1f536e8cd83b4435a38d47519107e68b",
       "style": "IPY_MODEL_3ffa5b515d564a82b59054f6ff2415ee",
       "value": " 100/100 [00:03&lt;00:00, 32.93it/s]"
      }
     },
     "d3939afe08f04a12a09b4fdba1bb5f4f": {
      "model_module": "@jupyter-widgets/controls",
      "model_module_version": "1.5.0",
      "model_name": "FloatProgressModel",
      "state": {
       "bar_style": "success",
       "description": "hiphop: 100%",
       "layout": "IPY_MODEL_9d4bb0ddf144445498216287c598f042",
       "style": "IPY_MODEL_1f0e0e9c2adb4a3c8269c0420286b1bd",
       "value": 100
      }
     },
     "d3b9b64f56ee427087b674405a977db7": {
      "model_module": "@jupyter-widgets/controls",
      "model_module_version": "1.5.0",
      "model_name": "DescriptionStyleModel",
      "state": {
       "description_width": ""
      }
     },
     "d668ef7e26b0481c9fe7bb591ea1b108": {
      "model_module": "@jupyter-widgets/controls",
      "model_module_version": "1.5.0",
      "model_name": "ProgressStyleModel",
      "state": {
       "description_width": "initial"
      }
     },
     "d7557cc7d7e74fb6a1ea5f582d87302c": {
      "model_module": "@jupyter-widgets/controls",
      "model_module_version": "1.5.0",
      "model_name": "HBoxModel",
      "state": {
       "children": [
        "IPY_MODEL_d03255d39ce544298227ac48849f584c",
        "IPY_MODEL_d1afcaba533c4d0ebdd8e9655c679554"
       ],
       "layout": "IPY_MODEL_245b3dce8412415e9b1845e626aa5e7c"
      }
     },
     "d7a9b9bfcf6a4480878203a0a2a18205": {
      "model_module": "@jupyter-widgets/base",
      "model_module_version": "1.2.0",
      "model_name": "LayoutModel",
      "state": {}
     },
     "d91206a9e4694242b99db5015acf8d97": {
      "model_module": "@jupyter-widgets/controls",
      "model_module_version": "1.5.0",
      "model_name": "HTMLModel",
      "state": {
       "layout": "IPY_MODEL_093f02220fc84ac195fe0807a1c749e6",
       "style": "IPY_MODEL_7eccc2c58fff4eb8be65e5c91904734e",
       "value": " 100/100 [00:33&lt;00:00,  3.03it/s]"
      }
     },
     "d912720e6d4b4230b86337ed5c39ff8b": {
      "model_module": "@jupyter-widgets/controls",
      "model_module_version": "1.5.0",
      "model_name": "FloatProgressModel",
      "state": {
       "bar_style": "success",
       "description": "classical: 100%",
       "layout": "IPY_MODEL_ba86b288d8604f0a9a8e03400d467f06",
       "style": "IPY_MODEL_14757aeeb56640478f21bbc55a8b04cc",
       "value": 100
      }
     },
     "da1fbe89c0ac499a90b5eaadb8cc2a8a": {
      "model_module": "@jupyter-widgets/controls",
      "model_module_version": "1.5.0",
      "model_name": "FloatProgressModel",
      "state": {
       "bar_style": "success",
       "description": "metal: 100%",
       "layout": "IPY_MODEL_878268558db74fb2b67e42b0b8bda5e0",
       "style": "IPY_MODEL_b94dda8f5dec4df3865ce9462c53c9c0",
       "value": 100
      }
     },
     "dad18985b60d4c95a35e199a248c09bf": {
      "model_module": "@jupyter-widgets/base",
      "model_module_version": "1.2.0",
      "model_name": "LayoutModel",
      "state": {}
     },
     "dd405b98c710406cb14f028b55d269fd": {
      "model_module": "@jupyter-widgets/base",
      "model_module_version": "1.2.0",
      "model_name": "LayoutModel",
      "state": {}
     },
     "de2d6ea83b5b4567b9a6e0fbf154cd0f": {
      "model_module": "@jupyter-widgets/controls",
      "model_module_version": "1.5.0",
      "model_name": "FloatProgressModel",
      "state": {
       "bar_style": "success",
       "description": "disco: 100%",
       "layout": "IPY_MODEL_baa0448e346144e380544b0acb58bbe5",
       "style": "IPY_MODEL_093cd59ea53e4571bea63fd77d58aaee",
       "value": 100
      }
     },
     "de38c44dee334bba92a8c264706fa08e": {
      "model_module": "@jupyter-widgets/controls",
      "model_module_version": "1.5.0",
      "model_name": "ProgressStyleModel",
      "state": {
       "description_width": "initial"
      }
     },
     "e0d46b25e14d49e1851b7dab5daa92f3": {
      "model_module": "@jupyter-widgets/base",
      "model_module_version": "1.2.0",
      "model_name": "LayoutModel",
      "state": {}
     },
     "e4966d215de04f14b407a434909faefd": {
      "model_module": "@jupyter-widgets/base",
      "model_module_version": "1.2.0",
      "model_name": "LayoutModel",
      "state": {}
     },
     "e4cb44b64a78415aa84960a93268d143": {
      "model_module": "@jupyter-widgets/base",
      "model_module_version": "1.2.0",
      "model_name": "LayoutModel",
      "state": {}
     },
     "e59e5150035d49c897092912b746cda9": {
      "model_module": "@jupyter-widgets/controls",
      "model_module_version": "1.5.0",
      "model_name": "DescriptionStyleModel",
      "state": {
       "description_width": ""
      }
     },
     "e78d07bd2b3d4bf28eb01389e273ba87": {
      "model_module": "@jupyter-widgets/base",
      "model_module_version": "1.2.0",
      "model_name": "LayoutModel",
      "state": {}
     },
     "e7ae0af0444b44a2b7b7d4048bae7a11": {
      "model_module": "@jupyter-widgets/base",
      "model_module_version": "1.2.0",
      "model_name": "LayoutModel",
      "state": {}
     },
     "e7caee8a2ab14c8da6e6faee46dd8d0c": {
      "model_module": "@jupyter-widgets/controls",
      "model_module_version": "1.5.0",
      "model_name": "HTMLModel",
      "state": {
       "layout": "IPY_MODEL_0a5685506fa04b8387e1788aa845ae9b",
       "style": "IPY_MODEL_9ffa54e9cef14ef69711e5597b38875f",
       "value": " 100/100 [00:07&lt;00:00, 13.60it/s]"
      }
     },
     "e865b8ab7f1648b88011058e86ffe114": {
      "model_module": "@jupyter-widgets/controls",
      "model_module_version": "1.5.0",
      "model_name": "HTMLModel",
      "state": {
       "layout": "IPY_MODEL_27d5239d3cab495caecfb588812fdcf7",
       "style": "IPY_MODEL_e59e5150035d49c897092912b746cda9",
       "value": " 0/100 [00:00&lt;?, ?it/s]"
      }
     },
     "eb031a0babf549c9a41a471fdfe639fc": {
      "model_module": "@jupyter-widgets/controls",
      "model_module_version": "1.5.0",
      "model_name": "FloatProgressModel",
      "state": {
       "bar_style": "success",
       "description": "blues: 100%",
       "layout": "IPY_MODEL_2c216ffa20d44801b3ea3469fe59809f",
       "style": "IPY_MODEL_2a31645f4de642a299e4c7dc74d0d347",
       "value": 100
      }
     },
     "ec6472b4bd534d73bb82dcd43c95369b": {
      "model_module": "@jupyter-widgets/controls",
      "model_module_version": "1.5.0",
      "model_name": "DescriptionStyleModel",
      "state": {
       "description_width": ""
      }
     },
     "ecc11255770e4e87b48340603f1fe547": {
      "model_module": "@jupyter-widgets/base",
      "model_module_version": "1.2.0",
      "model_name": "LayoutModel",
      "state": {}
     },
     "f17c69b997184b9580f893da7baf0b45": {
      "model_module": "@jupyter-widgets/base",
      "model_module_version": "1.2.0",
      "model_name": "LayoutModel",
      "state": {}
     },
     "f25617e0e2e54694ba8306537fb3121c": {
      "model_module": "@jupyter-widgets/controls",
      "model_module_version": "1.5.0",
      "model_name": "HBoxModel",
      "state": {
       "children": [
        "IPY_MODEL_6f86949a55cf4d1d812d5a0fdeb00f2a",
        "IPY_MODEL_2fb879f8588e4001b758ec2f83e59ea9"
       ],
       "layout": "IPY_MODEL_ccb19454c86a4defbec83040cbd47b45"
      }
     },
     "f2a2bfbaa32741aeab1ec8a485368d11": {
      "model_module": "@jupyter-widgets/controls",
      "model_module_version": "1.5.0",
      "model_name": "FloatProgressModel",
      "state": {
       "bar_style": "success",
       "description": "disco: 100%",
       "layout": "IPY_MODEL_5c71d6b54a884e1a9b381ec38acf6efa",
       "style": "IPY_MODEL_87f407408842455d998f490eeb83963e",
       "value": 100
      }
     },
     "f4653a141538426cbbbf2b7c679e93de": {
      "model_module": "@jupyter-widgets/controls",
      "model_module_version": "1.5.0",
      "model_name": "DescriptionStyleModel",
      "state": {
       "description_width": ""
      }
     },
     "f4cec09a960c4b5fbdcc8e6a87a215a5": {
      "model_module": "@jupyter-widgets/base",
      "model_module_version": "1.2.0",
      "model_name": "LayoutModel",
      "state": {}
     },
     "f53de134612a4c7c81ebddb1792ba958": {
      "model_module": "@jupyter-widgets/base",
      "model_module_version": "1.2.0",
      "model_name": "LayoutModel",
      "state": {}
     },
     "f5be0448cc3d4ea7980daecdb6ca4037": {
      "model_module": "@jupyter-widgets/controls",
      "model_module_version": "1.5.0",
      "model_name": "HBoxModel",
      "state": {
       "children": [
        "IPY_MODEL_00b7d33286ff4db39e882d05ac21a649",
        "IPY_MODEL_32c3564f9f0a4edc9d7a0e1c9afb0002"
       ],
       "layout": "IPY_MODEL_1d15f37016b54697b9070a79af143ea7"
      }
     },
     "f5e28e7c8dfd4397b389a939a216b0e4": {
      "model_module": "@jupyter-widgets/controls",
      "model_module_version": "1.5.0",
      "model_name": "DescriptionStyleModel",
      "state": {
       "description_width": ""
      }
     },
     "f8467a7227e14b99a3d9d09722ae5e16": {
      "model_module": "@jupyter-widgets/controls",
      "model_module_version": "1.5.0",
      "model_name": "FloatProgressModel",
      "state": {
       "bar_style": "success",
       "description": "country: 100%",
       "layout": "IPY_MODEL_ecc11255770e4e87b48340603f1fe547",
       "style": "IPY_MODEL_342c87d479154615b6142475a022e780",
       "value": 100
      }
     },
     "f866c304e01a4cac8ad6a11dc94deba1": {
      "model_module": "@jupyter-widgets/controls",
      "model_module_version": "1.5.0",
      "model_name": "DescriptionStyleModel",
      "state": {
       "description_width": ""
      }
     },
     "f8a770d5bc7946438220cc15e924fec3": {
      "model_module": "@jupyter-widgets/base",
      "model_module_version": "1.2.0",
      "model_name": "LayoutModel",
      "state": {}
     },
     "fa7ddd4a588c44b2bfcf3dcb57b9c486": {
      "model_module": "@jupyter-widgets/controls",
      "model_module_version": "1.5.0",
      "model_name": "DescriptionStyleModel",
      "state": {
       "description_width": ""
      }
     },
     "fb90c8ab55d74a29bba86cb06a98eafc": {
      "model_module": "@jupyter-widgets/controls",
      "model_module_version": "1.5.0",
      "model_name": "HTMLModel",
      "state": {
       "layout": "IPY_MODEL_28a3f4787d0f44a98855cf9593dd2b85",
       "style": "IPY_MODEL_fa7ddd4a588c44b2bfcf3dcb57b9c486",
       "value": " 100/100 [00:05&lt;00:00, 18.53it/s]"
      }
     },
     "fb9b0ffbcfb14ff9adb2f6a5d97f1eb2": {
      "model_module": "@jupyter-widgets/base",
      "model_module_version": "1.2.0",
      "model_name": "LayoutModel",
      "state": {}
     },
     "fcba5899be764925b770c942a4574469": {
      "model_module": "@jupyter-widgets/controls",
      "model_module_version": "1.5.0",
      "model_name": "HTMLModel",
      "state": {
       "layout": "IPY_MODEL_b32b9218651a483d9ac8e31e9296cb58",
       "style": "IPY_MODEL_c1a98af0c30d4ea2992e29dd9a373120",
       "value": " 100/100 [00:04&lt;00:00, 23.84it/s]"
      }
     },
     "fe383eb3647c477982039ebf5553ccdc": {
      "model_module": "@jupyter-widgets/controls",
      "model_module_version": "1.5.0",
      "model_name": "DescriptionStyleModel",
      "state": {
       "description_width": ""
      }
     },
     "fef079c0dc514a159c3c2d5a4b09ac71": {
      "model_module": "@jupyter-widgets/controls",
      "model_module_version": "1.5.0",
      "model_name": "ProgressStyleModel",
      "state": {
       "description_width": "initial"
      }
     }
    },
    "version_major": 2,
    "version_minor": 0
   }
  }
 },
 "nbformat": 4,
 "nbformat_minor": 2
}
